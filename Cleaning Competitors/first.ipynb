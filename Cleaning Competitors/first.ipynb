{
 "cells": [
  {
   "cell_type": "code",
   "execution_count": 1,
   "id": "165b3f2b",
   "metadata": {},
   "outputs": [],
   "source": [
    "import requests\n",
    "from bs4 import BeautifulSoup\n",
    "import pandas as pd\n",
    "from selenium import webdriver"
   ]
  },
  {
   "cell_type": "code",
   "execution_count": 10,
   "id": "6a2f470b",
   "metadata": {},
   "outputs": [],
   "source": [
    "import pandas as pd"
   ]
  },
  {
   "cell_type": "code",
   "execution_count": 2,
   "id": "29742888",
   "metadata": {},
   "outputs": [],
   "source": [
    "options = webdriver.ChromeOptions()\n",
    "\n",
    "options.add_argument(\"--incognito\")\n",
    "driver = webdriver.Chrome(\"C:\\chromedriver\\chromedriver.exe\", options = options)\n",
    "driver.get(\"https://jobtoday.com/gb/jobs-cleaning/london\")\n",
    "#sleep(5)\n",
    "#browser.close()"
   ]
  },
  {
   "cell_type": "code",
   "execution_count": null,
   "id": "6322f893",
   "metadata": {},
   "outputs": [],
   "source": []
  },
  {
   "cell_type": "code",
   "execution_count": 3,
   "id": "35e4a5cd",
   "metadata": {},
   "outputs": [],
   "source": [
    "src = driver.page_source\n",
    "soup=BeautifulSoup(src)"
   ]
  },
  {
   "cell_type": "code",
   "execution_count": 4,
   "id": "ba9041a4",
   "metadata": {},
   "outputs": [],
   "source": [
    "job = soup.find_all('h3', attrs = {'class' : 'jsx-739776546 JobCardLarge-role'})\n",
    "time = soup.find_all('div', attrs = {'class' : 'jsx-739776546 JobCardLarge-updateDate'})"
   ]
  },
  {
   "cell_type": "code",
   "execution_count": 5,
   "id": "ee75da35",
   "metadata": {},
   "outputs": [],
   "source": [
    "job_titles = []\n",
    "job_time = []\n",
    "for i in range(len(job)):\n",
    "    job_titles.append(job[i].text.strip())\n",
    "    job_time.append(time[i].text.strip())\n",
    "    "
   ]
  },
  {
   "cell_type": "code",
   "execution_count": null,
   "id": "312178b4",
   "metadata": {},
   "outputs": [],
   "source": [
    "lis"
   ]
  },
  {
   "cell_type": "code",
   "execution_count": 7,
   "id": "97e1665c",
   "metadata": {},
   "outputs": [],
   "source": [
    "for i in range(2,40):\n",
    "    driver.get(\"https://jobtoday.com/gb/jobs-cleaning/london?page=\"+str(i))\n",
    "    src = driver.page_source\n",
    "    soup=BeautifulSoup(src)\n",
    "    job = soup.find_all('h3', attrs = {'class' : 'jsx-739776546 JobCardLarge-role'})\n",
    "    time = soup.find_all('div', attrs = {'class' : 'jsx-739776546 JobCardLarge-updateDate'})\n",
    "    for i in range(len(job)):\n",
    "        job_titles.append(job[i].text.strip())\n",
    "        job_time.append(time[i].text.strip())"
   ]
  },
  {
   "cell_type": "code",
   "execution_count": 9,
   "id": "f37d69e4",
   "metadata": {},
   "outputs": [
    {
     "name": "stdout",
     "output_type": "stream",
     "text": [
      "['Housekeeping Supervisor', 'Public Area Attendant', 'Night Cleaners Needed - Standard DBS Required', 'Housekeeping Assistant', 'Housekeeper', 'Linen Porter', 'Area Cleaning / Mobilisation Manager', 'Refrigeration Case Cleaning Technician - NO EXPERIENCE NEEDED', 'Room Attendant', 'Driver Cleaner/Caretaker - MUST HAVE CRB/DBS CHECK', 'Domestic Cleaner', 'Weekend Housekeeper / £11 per hour / Immediate Start / Central London', 'Domestic Cleaner', 'Domestic Cleaner', 'Domestic Cleaner', 'Cleaner', 'Housekeeping Supervisor', 'Domestic Cleaner', 'Domestic Cleaner', 'Domestic Cleaner', 'Domestic Cleaner', 'Housekeeping Assistant', 'Office Cleaner', 'Cleaner', 'STREET/ROAD SWEEPERS, START ASAP, £10+ ph', 'Domestic Cleaner', 'Domestic Cleaner', 'Domestic Cleaner', 'Industrial Cleaner', 'Room Attendant', 'Domestic Cleaner', 'Domestic Cleaner', 'Night Cleaners wanted', 'Domestic Cleaner', 'Domestic Cleaner', 'Public Area Attendant', 'Domestic Cleaner', 'Domestic Cleaner', 'Domestic Cleaner', 'Cleaner', 'Cleaner', 'cleaner operative', 'Domestic Cleaner', 'Domestic Cleaner', 'Domestic Cleaner', 'Domestic Cleaner', 'Housekeeper', 'Linen Porter', 'Housekeeper', 'Housekeeping Attendant', 'Domestic Cleaner', 'Domestic Cleaner', 'Room Attendant', 'Spa Attendant', 'Domestic Cleaner', 'Domestic Cleaner', 'Cleaner', 'Domestic Cleaner', 'Domestic Cleaner', 'Cleaner', 'Domestic Cleaner', 'Domestic Cleaner', 'Domestic Cleaner', 'End of tenancy cleaner(self-employee)', 'Domestic Cleaner', 'Domestic Cleaner', 'Domestic Cleaner', 'Domestic Cleaner', 'Domestic Cleaner', 'Cleaner', 'Cleaner', 'Housekeeper', 'Housekeeper', 'Domestic Cleaner', 'Domestic Cleaner', 'Domestic Cleaner', 'Cleaning staff', 'Domestic Cleaner', 'Domestic Cleaner', 'Domestic Cleaner', 'Cleaner', 'Domestic Cleaner', 'Domestic Cleaner', 'Room Attendant', 'Domestic Cleaner', 'Domestic Cleaner', 'Domestic Cleaner', 'House Cleaner', 'Cleaner', 'Domestic Cleaner', 'Domestic Cleaner', 'Domestic Cleaner', 'Domestic Cleaner', 'Housekeeping Team Member - Part Time', 'Room Attendant', 'Linen Porter', 'Room Attendant', 'Room Attendant', 'Domestic Cleaner', 'Domestic Cleaner', 'Evening Room Attendant', 'Night cleaner', 'Domestic Cleaner', 'Domestic Cleaner', 'Cleaner', 'Domestic Cleaner', 'Domestic Cleaner', 'Room Attendant', 'Domestic Cleaner', 'Domestic Cleaner', 'Domestic Cleaner', 'Housekeeping Supervisor', 'Housekeeper', 'Domestic Cleaner', 'Domestic Cleaner', 'Domestic Cleaner', 'Domestic Cleaner', 'Hotel Room Cleaner', 'Cleaner', 'Cleaner', 'Domestic Cleaner', 'Cleaner', 'Domestic Cleaner', 'Domestic Cleaner', 'Domestic Cleaner', 'Cleaner', 'Domestic Cleaner', 'Domestic Cleaner', 'Assistant maid', 'Domestic Cleaner', 'Domestic Cleaner', 'Domestic Cleaner', 'Domestic Cleaner', 'Domestic Cleaner', 'Domestic Cleaner', 'Property Cleaner', 'Room Attendant', 'Car Cleaner/Valeter', 'Domestic Cleaner', 'Domestic Cleaner', 'Domestic Cleaner', 'Linen Porter', 'Housekeeper', 'Domestic Cleaner', 'Airbnb cleaner', 'Night Cleaners wanted', 'Domestic Cleaner', 'Domestic Cleaner', 'Room Attendant', 'Cleaner', 'Domestic Cleaner', 'Domestic Cleaner', 'Room Attendant', 'Domestic Cleaner', 'Domestic Cleaner', 'Cleaner', 'Domestic Cleaner', 'Domestic Cleaner', 'Domestic Cleaner', 'Housekeeping Room Attendant', 'Housekeeping Assistant', 'Room Attendant', 'Domestic Cleaner', 'Domestic Cleaner', 'Domestic Cleaner', 'Cleaning Operative', 'Hotel Cleaner', 'Housekeeping Recruitment Day 11th August 2021 10am-2pm', 'Cleaner', 'Domestic Cleaner', 'Domestic Cleaner', 'Domestic Cleaner', 'Cleaner', 'Cleaner', 'Domestic Cleaner', 'Domestic Cleaner', 'Car Valeter', 'Domestic Cleaner', 'Domestic Cleaner', 'Room Attendant', 'Domestic Cleaner', 'Domestic Cleaner', 'Domestic Cleaner', 'Room attendant', 'Temp Cleaning Operative', 'Domestic Cleaner', 'Domestic Cleaner', 'Domestic Cleaner', 'Domestic Cleaner', 'Experienced cleaners needed for tomorrow.', 'Housekeeper', 'Housekeeper', 'Steamer', 'Room Attendant', 'Domestic Cleaner', 'Domestic Cleaner', 'Cookery school assistant. New openings', 'Housekeeper', 'Domestic Cleaner', 'Domestic Cleaner', 'Cleaner', 'Domestic Cleaner', 'Domestic Cleaner', 'Domestic Cleaner', 'Domestic Cleaner', 'Domestic Cleaner', 'Domestic Cleaner', 'Cleaner', 'Night cleaner', 'Housekeeper', 'Domestic Cleaner', 'Domestic Cleaner', 'Domestic Cleaner', 'Housekeeper', 'Room Attendant', 'Housekeeper', 'Housekeeping Attendant (Casual)', 'Room Attendant', 'Domestic Cleaner', 'Domestic Cleaner', 'Domestic Cleaner', 'Room Attendant', 'Domestic Cleaner', 'Domestic Cleaner', 'Domestic Cleaner', 'Domestic Cleaner', 'Domestic Cleaner', 'Toilet Attendant', 'Domestic Cleaner', 'Domestic Cleaner', 'Domestic Cleaner', 'Private House Cleaner', 'Domestic Cleaner', 'Cleaner/Driver', 'Domestic Cleaner', 'Domestic Cleaner', 'Domestic Cleaner', 'Cleaner', 'Cleaner', 'Housekeeper', 'Cleaner', 'Cleaning Operative', 'Domestic Cleaner', 'Domestic Cleaner', 'Night cleaner', 'Housekeeping Supervisor', 'Domestic Cleaner', 'Domestic Cleaner', 'Room Attendant', 'Domestic Cleaner', 'Domestic Cleaner', 'STREET/ROAD SWEEPERS, START ASAP, £10+ ph', 'Domestic Cleaner', 'Domestic Cleaner', 'Domestic Cleaner', 'Housekeeper', 'Room Attendant', 'Domestic Cleaner', 'Domestic Cleaner', 'Domestic Cleaner', 'Domestic Cleaner', 'Domestic Cleaner', 'Cleaner', 'Cleaner / Housekeeper', 'Domestic Cleaner in High Barnet - Ideally job for mums', 'Housekeeper', 'Domestic Cleaner', 'Domestic Cleaner', 'Cleaner and setting out tables and chairs', 'Cleaner', 'Domestic Cleaner', 'Domestic Cleaner', 'Housekeeper / £11 per hour / Immediate Start / Central London', 'Domestic Cleaner', 'Domestic Cleaner', 'Room Attendant', 'Domestic Cleaner', 'Domestic Cleaner', 'Domestic Cleaner', 'Domestic Cleaner', 'Domestic and Commercial Cleaner', 'Domestic Cleaner', 'Domestic Cleaner', 'Domestic Cleaner', 'Domestic Cleaner', 'Domestic Cleaner - Ideally job for mums', 'Domestic Cleaner - Ideally job for mums', 'Domestic Cleaner - Ideally job for mums', 'Housekeeper', 'Looking for a hotel Room Maids/Bedroom cleaners for Greenwhich area', 'Domestic Cleaner', 'Domestic Cleaner', 'Night cleaners', 'Domestic Cleaners( Text your number or email please)', 'Domestic Cleaner', 'Domestic Cleaner', 'Housekeeper', 'Domestic Cleaner', 'Domestic Cleaner', 'Domestic Cleaner: Immediate Start!', 'Domestic Cleaner', 'Domestic Cleaner', 'Domestic Cleaner', 'Domestic Cleaner', 'Domestic cleaner', 'Cleaner', 'Domestic Cleaner', 'Domestic Cleaner', 'Domestic Cleaner', 'Cleaning Operative', 'Cleaner', 'Cleaning Supervisor/Driver', 'Warehouse Cleaner', 'Domestic Cleaner', 'Domestic Cleaner', 'Domestic Cleaner', 'Domestic Cleaner', 'Cleaner', 'Domestic Cleaner', 'Domestic Cleaner', 'Housekeeper', 'Domestic Cleaner', 'Domestic Cleaner', 'Housekeeping Supervisor', 'Domestic Cleaner', 'Domestic Cleaner', 'Domestic Cleaner', 'Night Cleaner', 'Cleaner', 'Night cleaner', 'Domestic Cleaner', 'Domestic Cleaner', 'Domestic Cleaner', 'Domestic Cleaner', 'Domestic Cleaner', 'Room Attendant', 'Permanent office clean', 'Property Cleaner', 'Domestic Cleaner', 'Domestic Cleaner', 'Office Cleaner', 'CLEANER Night Shift', 'Domestic Cleaner', 'Domestic Cleaner', 'Domestic Cleaner', 'Domestic Cleaner', 'Domestic Cleaner', 'Cleaner', 'Domestic Cleaner', 'Domestic Cleaner', 'Domestic Cleaner', 'Housekeeper/waiter/chief de partie/chief de rang', 'Cleaner', 'Private House Cleaner', 'Domestic Cleaner', 'Domestic Cleaner', 'Domestic Cleaner', 'Domestic Cleaner', 'Cleaner', 'Cleaner', 'Domestic Cleaner', 'Room Attendant', 'Domestic Cleaner', 'Domestic Cleaner', 'End of Tenancy Deep Cleaner', 'cleaner operative', 'Domestic Cleaner', 'Domestic Cleaner', 'Cleaning ( Woman)', 'Domestic Cleaner', 'Domestic Cleaner', 'Cleaner', 'Domestic Cleaner', 'Domestic Cleaner', 'Domestic Cleaner', 'Cleaner / Housekeeper', 'Cleaning Operative', 'Car Detailer', 'Domestic Cleaner', 'Domestic Cleaner', 'Domestic Cleaner', 'Housekeeper', 'Housekeeping Assistant', 'Night shift cleaners', 'Professional cleaner', 'Cleaner with Driving Licence', 'Domestic Cleaner', 'Domestic Cleaner', 'Cleaner', 'House Cleaner', 'Domestic Cleaner', 'Domestic Cleaner', 'Full time and Part time Domestic cleaning job', 'Domestic Cleaner', 'Domestic Cleaner', 'Cleaner', 'Domestic Cleaner', 'Domestic Cleaner', 'Domestic Cleaner', 'Cleaner', 'Room Attendant', 'Domestic Cleaner', 'Domestic Cleaner', 'Domestic Cleaner', 'Domestic Cleaner', 'Domestic Cleaner: Immediate Start!', 'Domestic Cleaner: Immediate Start!', 'Housekeeper', 'Hotel Cleaner', 'Domestic Cleaner', 'Domestic Cleaner', 'Domestic Cleaner', 'Room Attendant', 'Cleaner with Driving Licence', 'Domestic Cleaner', 'Domestic Cleaner', 'Cleaning Operative', 'Domestic Cleaner', 'Domestic Cleaner', 'Domestic Cleaner', 'Domestic Cleaner', 'Domestic Cleaner', 'Domestic Cleaner', 'Cleaner', 'Room Attendant', 'Cleaner', 'Domestic Cleaner', 'Domestic Cleaner', 'Domestic Cleaner', 'Cleaner with Driving Licence', 'Cleaner', 'Cleaner', 'Housekeeper', 'Cleaner', 'Domestic Cleaner', 'Domestic Cleaner', 'Cleaning Operative', 'Hotel Cleaner', 'Domestic Cleaner', 'Domestic Cleaner', 'Hotel Housekeeper', 'Domestic Cleaner', 'Domestic Cleaner', 'Domestic Cleaner', 'Domestic Cleaner', 'Domestic Cleaner', 'Domestic Cleaner', 'Cleaner', 'Car Valeter', 'Domestic Cleaner', 'Domestic Cleaner', 'Domestic Cleaner', 'Domestic Cleaner', 'Domestic Cleaner', 'Room attendent', 'Domestic Cleaner', 'Domestic Cleaner', 'Domestic Cleaner', 'Domestic Cleaner', 'Domestic Cleaner', 'Mobile Cleaner Part time', 'Cleaner', 'Domestic Cleaner', 'Domestic Cleaner', 'Cleaner', 'Domestic Cleaner', 'Domestic Cleaner', 'Crew Member', 'Domestic Cleaner', 'Domestic Cleaner', 'Domestic Cleaner', 'Domestic Cleaner', 'Housekeeper', 'Cleaning Operative', 'Domestic Cleaner', 'Domestic Cleaner', 'Domestic Cleaner', 'Cleaner', 'Housekeeper', 'Full time or Part time cleaning job', 'Domestic Cleaner', 'STREET/ROAD SWEEPERS, START ASAP, £10+ ph', 'Domestic Cleaner', 'Domestic Cleaner', 'Domestic Cleaner', 'Domestic Cleaner', 'Domestic Cleaner', 'Domestic Cleaner', 'Mobile Cleaner', 'Domestic Cleaner', 'Domestic Cleaner', 'Cleaner with Driving Licence', 'Domestic Cleaner', 'Domestic Cleaner', 'Domestic Cleaner', 'Refuse Loader', 'Cleaner', 'Cleaner', 'Domestic Cleaner', 'Domestic Cleaner', 'Domestic Cleaner', 'Domestic Cleaner', 'Domestic Cleaner', 'Housekeeper', 'Cleaner', '5* Leisure Cleaner', 'Domestic Cleaner', 'Domestic Cleaner', 'Cleaner', 'Cleaner', 'Domestic Cleaner', 'Domestic Cleaner', 'Cleaner', 'Domestic Cleaner', 'Domestic Cleaner', 'Working cleaner supervisor (Night Shift)', 'Domestic Cleaner', 'Domestic Cleaner', 'Domestic Cleaner', 'Domestic Cleaner', 'Housekeeper', 'Cleaning Operative', 'Domestic Cleaner', 'Domestic Cleaner', 'Domestic Cleaner', 'Domestic Cleaner', 'Experience Self-Employed Cleaner', 'Airbnb Cleaner', 'Professional cleaner', 'Window Cleaner', 'Domestic Cleaner', 'Domestic Cleaner', 'Cleaner', 'Full time and Part time cleaning Job', 'Domestic Cleaner', 'Domestic Cleaner', 'Room Attendant', 'Domestic Cleaner', 'Domestic Cleaner', 'Cleaner', 'Domestic Cleaner', 'Domestic Cleaner', 'Cleaner', 'Cleaner', 'Cleaner', 'Cleaner with Driving Licence', 'Housekeeping Assistant', 'Assistant Cleaning Manager', 'Cleaning Supervisor', 'Cleaner', 'cleaner', 'Cleaner', 'Cleaner', 'Cleaner', 'Cleaning Supervisor', 'Room Attendant', 'Linen Porter', 'Room Attendant', 'Morning Cleaner with a DBS', \"Night Cleaning Team Member - Butlin'S\", 'Housekeeper Team Member', \"Night Cleaning Team Member - Butlin'S\", 'Weekend Cleaning Operative Enhanced DBS Required', 'Cleaner', 'Senior Housekeeping Supervisor', 'Night Supervisor - Housekeeping', 'Housekeeping Team Member', 'Cleaner', 'Cleaning Supervisor', 'Housekeeper', 'Cleaner and Housekeeper', 'Hospital Domestic Cleaner', 'School Cleaner, Lewisham', 'Domestic Cleaner', 'Cleaning Operative', 'Cleaner', 'School Cleaner SE15', 'Toilet Attendant', 'School Cleaner, Lewisham', 'Cleaner', 'Cleaner', 'Domestic Cleaner', 'Pest Control Technician', 'Bus Cleaner', 'Commercial & Office cleaners', 'Cleaner - Permanent - E14', 'Night Shift Cleaner', 'Cleaner', 'Cleaner', 'Pest Control Technician', 'Cleaner with IPAF', 'Cleaner', 'Supermarket Cleaner', 'Self employed cleaner', 'Cleaner with CSCS card', 'Cleaning Supervisor - Part-Time', 'School Cleaner', 'Domestic Cleaner', 'Airbnb Housekeeping Cleaner', 'Public Area Attendant', 'Full time and Part time cleaning jobs', 'Driver Cleaning Supervisor and Emergency Cover', 'Room Attendant', 'Morning Cleaner', 'London’s BEST Cleaners! (Night Shift)', 'Housekeeper', 'Cscs Cleaner', 'Cleaner - Basic DBS Required', 'Cleaner', 'Deep Cleaning / Clearing operative', 'Cleaner', 'Cleaner', 'Housekeeper and Cook - Private Household', 'Estate Cleaning Operative', 'Cleaning Supervisor', 'Cleaner', 'Cleaner', 'Cleaner', 'Domestic Cleaner: Immediate Start', 'Room Attendant', 'Assistant Head Housekeeper', 'Cleaner', 'Cleaner', 'Cleaner', 'Cleaner', 'Cleaner', 'Assistant Head Housekeeper', 'Evening Cleaner', 'Cleaner', 'Helper', 'Linen Porter - Immediate Start', 'Mobile Cleaner', 'Full time and Part time cleaning jobs', 'Mobile Cleaner', 'Cleaning Supervisor - Part-Time', 'Cleaner', 'Mobile Relief Cleaner', 'Steward/Cleaner', 'Room Attendants', 'Room Attendant', 'Cleaner', 'Cleaning Operative', 'Nursery Housekeeper', 'Pest Control Technician - West London - £28,000', 'Mobile Cleaning Operative', 'Cleaning Supervisor', 'Cleaning Hair and beauty Salon and Apartment/s', 'Housekeeper', 'Housekeeper', 'Hounslow cleaner tw3 full time', 'Industrial Cleaning Operative', 'Cleaning Supervisor - UCLH', 'Private House Cleaner', 'Cleaner', 'Industrial Cleaning Operative', 'Cleaner', 'Cleaner', 'Cleaners', 'Housekeeping Supervisor', 'Cleaning Operative', 'Housekeeping Assistant', 'Cleaner', 'CSCS Cleaner', 'Cleaner', 'Full time and Part time cleaning jobs', 'Domestic Cleaner', 'Mobile Cleaner', 'Housekeeper', 'Housekeeping Attendant', 'Cleaner', 'Cleaner', 'Cleaner with Driving Licence', 'Cleaner', 'Private House Cleaner', 'Housekeeping Supervisor', 'Cleaner Part Time', 'Linen Porter', 'Cleaner / Housekeeper', 'Mobile Cleaner', 'Housekeeper', 'Cleaner', 'CSCS Cleaner', 'Housekeeping Supervisor - Richmond Hill Hotel- Housekeeping', 'Window Cleaner', 'Housekeeping Supervisor', 'Cleaner Team Supervisor - London', 'Nightcleaner', 'Cleaning Operative', 'Commercial Cleaner', 'Evening Cleaner', 'Residence Public Area Housekeeping Attendant', 'Head Housekeeper', 'Cleaner', 'Cleaner', 'Cleaner', 'Domestic Cleaner', 'Cleaner', 'Cleaning Operative', 'Housekeeper', 'Nanny /Housekeeper London (live-out)', 'Domestic Cleaner', 'Night cleaner - Back of House', 'Cleaning Supervisor -', 'Late Housekeeping / Public Area Cleaner', 'Cleaner', 'Hospital Domestic Cleaner', 'Housekeeping Supervisor', 'Cleaner', 'Cleaning Supervisor - Chasefarm Hospital', 'Cleaning Staff Required for Cricket Event', 'Cleaning Rapid Response - UCLH Hospital', 'Domestic Cleaner', 'Cleaner', 'Domestic Cleaner', 'General Cleaning & Waste Assistant', 'Assistant Style/Housekeeping Manager', 'Cleaning Supervisor', 'Full time and Part time cleaning job', 'Housekeeper', 'Cleaning Operative', 'Dry Cleaner', 'Housekeeping Assistant', 'Toilet Attendant - Floor', 'Cleaner and Housekeeper', 'Cleaner', 'Cleaner', 'Housekeeping Stewards', 'Cleaners and Caretakers - Immediate Start', 'Cleaner / Housekeeper', 'LIVE-OUT CHILD-FRIENDLY COOK-HOUSEKEEPER', 'Cleaner CSCS', 'Domestic Cleaner', 'Temporary Cleaner', 'Event Cleaning & Catering Staff required', 'Housekeeping Floor Supervisor', 'Restaurant Opener / Cleaner', 'Commercial Cleaner', 'Domestic Cleaner', 'Cleaning Attendant', 'Cleaner', 'Housekeeping Porter', 'Domestic Cleaner', 'Mobile Cleaner', 'Cleaner', 'Cleaner', 'Cleaner', 'Mobile Car Washer, Cleaner & Valeter at Dropless', 'Room Attendant', 'Room Maids/Bedroom cleaners for London Greenwich', 'Cleaning Operative', 'Room Attendant', 'Cleaner Night', 'Cleaner', 'Housekeeping', 'Nursery Housekeeper', 'Cleaner', 'Temporary Caretaker/ Cleaner London', 'Part Time Cleaner', 'Regional Director - Cleaning', 'Professional Cleaners', 'Domestic Cleaner', 'Room Attendant', 'Cleaner', 'Aircraft Groomers', 'Aircraft Cleaners', 'Looking for a hotel Room Maids/Bedroom cleaners for Greenwhich area', 'Cleaner', 'Linen Porter', 'Domestic Cleaner', 'Housekeeping Assistant', 'Housekeeping Floor Supervisor', 'Housekeeping Supervisor', 'Night shift cleaner 1100 - 0100 daily', 'Cleaner', 'Housekeeping Team Member', 'Assistant Housekeeping Manager', 'Cleaning Supervisor', 'Assistant Head Housekeeper - Sea Containers London - Housekeeping', 'Night Housekeeper', 'Housekeeping Department', 'Live-in Housekeeper w/ South Asian Cooking duties', 'Part Time Room Attendant - Soho House White City', 'Cleaner', 'Cleaning Operative', 'Full time or Part time Cleaning Job', 'Cleaner', 'Cleaning Supervisor', 'Housekeeper/Cleaner in a Mental Health Hospital', 'Estate Cleaner', 'Room Attendant', 'Room attendant / Cleaner / Housekeeper', 'Housekeeping Assistant', 'Cleaner', 'Toilet Attendant', 'Estate Cleaner', 'Cleaner/Housekeeper Edgware', 'Domestic Cleaner', 'Cleaner', 'Cleaner - Part-time', 'CSCS Welfare Cleaners', 'Domestic Cleaner', 'Domestic Cleaner', 'Cleaner', 'Cleaner', 'Commercial Cleaners', 'Domestic Assistants (Cleaning Assistants)', 'Cleaner', 'Housekeeper with Accomodation - RELOCATION REQUIRED', 'Room Attendant', 'Housekeeping Supervisor', 'Housekeeping Team Member - Immediate Start', 'Casual Room Attendant', 'Housekeeping Attendant', 'Room Attendant', 'Domestic Cleaner: Immediate Start!', 'Private House Cleaner', 'Cleaner', 'Cleaning Operative', 'Labourer/ Cleaning Operative', 'CSCS Cleaner - Wembley', 'Housekeeper', 'Cleaner', 'Casual Housekeeping Assistant', 'Cleaner - SW11 2QP', 'Room Attendant', 'Valeter / Driver', 'Area Supervisor', 'Cleaning Operative', 'Valeters', 'Temporary Cleaner London', 'Welfare Cleaner', 'Domestic Cleaner', 'Domestic Cleaner', 'Cleaner with Driving Licence', 'Cleaners (Part Time)', 'End Of Tenancy Cleaner', 'AIRCRAFT CLEANER DRIVERS', 'Housekeeper', 'Full time and Part time Cleaning Jobs', 'Cleaner / Housekeeper', 'Housekeeper', 'Private House Cleaner', 'Cleaning Manager', 'Cleaner with DBS', 'Cleaner with Driving Licence', 'Cleaner with Driving Licence', 'Housekeeper', 'Building cleaners with CSCS card', 'Cleaner', 'Hotel Room Attendant', 'Cleaner - 3 months £10.55', 'Cleaning Operative (NIGHT)', 'Event Cleaner', 'Agency Housekeeper | Up to £11.50PH', 'Evening Cleaner', 'Cleaning Operative', 'Hotel Cleaner', 'Cleaner', 'CSCS Welfare Cleaner', 'Mobile cleaner 5180316', 'CSCS Cleaner', 'Trainee pest control technician', 'Cleaning Supervisor/Driver', 'Private House Cleaner', 'Cleaner', 'Domestic Cleaner', 'Housekeeper', 'Estate Cleaner', 'Cleaning Operative', 'Cleaning Operative', 'Cleaner', 'Car Cleaner', 'Cleaner', 'Housekeeper / Porter', 'Room Attendant - London', 'General cleaning and house keeping', 'Ductwork Cleaner', 'CSCS Cleaner', 'Road Sweeper', 'Female house cleaner', 'Cleaner', 'Cleaner', 'Facilities Cleaner', 'Hospital Cleaners', 'CSCS Cleaner', 'Cleaner', 'Cleaner', 'STREET/ROAD SWEEPERS, START ASAP, £10+ ph', 'Housekeeper/cleaner for Hotel in Wanstead/Leytonstone area', 'Domestic Cleaner', 'Road Sweeper', 'Facilities Cleaner', 'Cleaner with Driving Licence', 'Domestic Cleaner', 'Hospital Cleaners', 'CSCS Cleaner', 'Domestic Cleaner', 'Housekeeper/ Cook- Private Household', 'Housekeeping Supervisor', 'Cleaner', 'Night Cleaner Supervisor - Soho House Central London', 'Housekeeper', 'Part time cloakroom attendant - Clapham - LGBTQ+', 'Domestic Cleaner', 'Housekeeper', 'Cleaner', 'Room Attendant - Housekeeping', 'Night Cleaner - Soho House Central London', 'Linen Porter', 'Room Attendant', 'Housekeeper', 'Domestic Cleaner', 'Cleaning Operative', 'Housekeeper', 'Floor Housekeeper', 'Room Attendant', 'Busser', 'Cleaner', 'Senior Housekeeping Supervisor', 'Room Attendant', 'Domestic Cleaner', 'Deputy Head Housekeeper', 'Toilet Attendant - Soho House White City', 'Housekeeping Assistant', 'Housekeeping Team Leader', 'Live in Cook/Housekeeper job', 'Cleaning Operative', 'Office Cleaner', 'Full-Time Cleaner', 'Cleaner', 'Housekeeping Attendant', 'Housekeeping Manager (£10.26 - £15.38)', 'Restaurant Cleaner', 'Cleaner', 'Domestic Cleaner', 'Hotel Chambermaid']\n",
      "936\n"
     ]
    }
   ],
   "source": [
    "print(job_titles)\n",
    "print(job_time)"
   ]
  },
  {
   "cell_type": "code",
   "execution_count": 11,
   "id": "79c94812",
   "metadata": {},
   "outputs": [
    {
     "data": {
      "text/html": [
       "<div>\n",
       "<style scoped>\n",
       "    .dataframe tbody tr th:only-of-type {\n",
       "        vertical-align: middle;\n",
       "    }\n",
       "\n",
       "    .dataframe tbody tr th {\n",
       "        vertical-align: top;\n",
       "    }\n",
       "\n",
       "    .dataframe thead th {\n",
       "        text-align: right;\n",
       "    }\n",
       "</style>\n",
       "<table border=\"1\" class=\"dataframe\">\n",
       "  <thead>\n",
       "    <tr style=\"text-align: right;\">\n",
       "      <th></th>\n",
       "      <th>Role</th>\n",
       "      <th>Datetime_Posted</th>\n",
       "    </tr>\n",
       "  </thead>\n",
       "  <tbody>\n",
       "    <tr>\n",
       "      <th>0</th>\n",
       "      <td>Housekeeping Supervisor</td>\n",
       "      <td>39 minutes ago</td>\n",
       "    </tr>\n",
       "    <tr>\n",
       "      <th>1</th>\n",
       "      <td>Public Area Attendant</td>\n",
       "      <td>47 minutes ago</td>\n",
       "    </tr>\n",
       "    <tr>\n",
       "      <th>2</th>\n",
       "      <td>Night Cleaners Needed - Standard DBS Required</td>\n",
       "      <td>1 day ago</td>\n",
       "    </tr>\n",
       "    <tr>\n",
       "      <th>3</th>\n",
       "      <td>Housekeeping Assistant</td>\n",
       "      <td>1 day ago</td>\n",
       "    </tr>\n",
       "    <tr>\n",
       "      <th>4</th>\n",
       "      <td>Housekeeper</td>\n",
       "      <td>48 minutes ago</td>\n",
       "    </tr>\n",
       "    <tr>\n",
       "      <th>...</th>\n",
       "      <td>...</td>\n",
       "      <td>...</td>\n",
       "    </tr>\n",
       "    <tr>\n",
       "      <th>931</th>\n",
       "      <td>Housekeeping Manager (£10.26 - £15.38)</td>\n",
       "      <td>13 days ago</td>\n",
       "    </tr>\n",
       "    <tr>\n",
       "      <th>932</th>\n",
       "      <td>Restaurant Cleaner</td>\n",
       "      <td>13 days ago</td>\n",
       "    </tr>\n",
       "    <tr>\n",
       "      <th>933</th>\n",
       "      <td>Cleaner</td>\n",
       "      <td>3 months ago</td>\n",
       "    </tr>\n",
       "    <tr>\n",
       "      <th>934</th>\n",
       "      <td>Domestic Cleaner</td>\n",
       "      <td>3 months ago</td>\n",
       "    </tr>\n",
       "    <tr>\n",
       "      <th>935</th>\n",
       "      <td>Hotel Chambermaid</td>\n",
       "      <td>3 months ago</td>\n",
       "    </tr>\n",
       "  </tbody>\n",
       "</table>\n",
       "<p>936 rows × 2 columns</p>\n",
       "</div>"
      ],
      "text/plain": [
       "                                              Role Datetime_Posted\n",
       "0                          Housekeeping Supervisor  39 minutes ago\n",
       "1                            Public Area Attendant  47 minutes ago\n",
       "2    Night Cleaners Needed - Standard DBS Required       1 day ago\n",
       "3                           Housekeeping Assistant       1 day ago\n",
       "4                                      Housekeeper  48 minutes ago\n",
       "..                                             ...             ...\n",
       "931         Housekeeping Manager (£10.26 - £15.38)     13 days ago\n",
       "932                             Restaurant Cleaner     13 days ago\n",
       "933                                        Cleaner    3 months ago\n",
       "934                               Domestic Cleaner    3 months ago\n",
       "935                              Hotel Chambermaid    3 months ago\n",
       "\n",
       "[936 rows x 2 columns]"
      ]
     },
     "execution_count": 11,
     "metadata": {},
     "output_type": "execute_result"
    }
   ],
   "source": [
    "df = pd.DataFrame(list(zip(job_titles,job_time)), columns=['Role','Datetime_Posted'])\n",
    "df"
   ]
  },
  {
   "cell_type": "code",
   "execution_count": 13,
   "id": "b44fb222",
   "metadata": {},
   "outputs": [
    {
     "data": {
      "text/plain": [
       "(936, 2)"
      ]
     },
     "execution_count": 13,
     "metadata": {},
     "output_type": "execute_result"
    }
   ],
   "source": [
    "df.shape"
   ]
  },
  {
   "cell_type": "code",
   "execution_count": 17,
   "id": "aec91186",
   "metadata": {},
   "outputs": [
    {
     "data": {
      "text/plain": [
       "(773, 2)"
      ]
     },
     "execution_count": 17,
     "metadata": {},
     "output_type": "execute_result"
    }
   ],
   "source": [
    "df.drop(df[df['Datetime_Posted']=='5 months ago'].index, inplace = True)\n",
    "df.shape"
   ]
  },
  {
   "cell_type": "code",
   "execution_count": 18,
   "id": "0af71270",
   "metadata": {},
   "outputs": [],
   "source": [
    "df.to_csv('Jobs.csv')"
   ]
  },
  {
   "cell_type": "code",
   "execution_count": null,
   "id": "d4ac8a78",
   "metadata": {},
   "outputs": [],
   "source": []
  },
  {
   "cell_type": "code",
   "execution_count": null,
   "id": "ca069a1e",
   "metadata": {},
   "outputs": [],
   "source": [
    "url = \"https://jobtoday.com/gb/jobs-cleaning/london\"\n",
    "r = requests.get(url)\n",
    "\n",
    "print(r.content)"
   ]
  },
  {
   "cell_type": "code",
   "execution_count": null,
   "id": "a0c9e99a",
   "metadata": {},
   "outputs": [],
   "source": [
    "soup = BeautifulSoup(r.content, \"html.parser\")\n"
   ]
  },
  {
   "cell_type": "code",
   "execution_count": null,
   "id": "05321c60",
   "metadata": {},
   "outputs": [],
   "source": [
    "results = soup.find_all(\"div\", class_=\"jsx-2276057375 Grid\")\n",
    "results"
   ]
  },
  {
   "cell_type": "code",
   "execution_count": null,
   "id": "2e95866f",
   "metadata": {},
   "outputs": [],
   "source": [
    "job_elements = soup.find_all(\"div\", class_=\"jsx-739776546 JobCardLarge-content\")\n",
    "job_elements"
   ]
  },
  {
   "cell_type": "code",
   "execution_count": null,
   "id": "1d524fb0",
   "metadata": {},
   "outputs": [],
   "source": [
    "for job_element in job_elements:\n",
    "    role_element = job_element.find(\"h3\", class_=\"jsx-739776546 JobCardLarge-role\")\n",
    "    company_element = job_element.find(\"div\", class_=\"jsx-739776546 JobCardLarge-address\")\n",
    "    print(role_element.text)\n",
    "    print(company_element.text)\n",
    "    print()"
   ]
  },
  {
   "cell_type": "code",
   "execution_count": null,
   "id": "6a60a7ce",
   "metadata": {},
   "outputs": [],
   "source": [
    "role =[]\n",
    "address =[]\n"
   ]
  }
 ],
 "metadata": {
  "kernelspec": {
   "display_name": "Python 3",
   "language": "python",
   "name": "python3"
  },
  "language_info": {
   "codemirror_mode": {
    "name": "ipython",
    "version": 3
   },
   "file_extension": ".py",
   "mimetype": "text/x-python",
   "name": "python",
   "nbconvert_exporter": "python",
   "pygments_lexer": "ipython3",
   "version": "3.8.8"
  }
 },
 "nbformat": 4,
 "nbformat_minor": 5
}
