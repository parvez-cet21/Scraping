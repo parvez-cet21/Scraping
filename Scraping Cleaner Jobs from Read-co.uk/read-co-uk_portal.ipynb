{
 "cells": [
  {
   "cell_type": "markdown",
   "id": "a112c7fd",
   "metadata": {},
   "source": [
    "## Import Necessary Libraries"
   ]
  },
  {
   "cell_type": "code",
   "execution_count": 1,
   "id": "165b3f2b",
   "metadata": {},
   "outputs": [],
   "source": [
    "import pandas as pd\n",
    "from bs4 import BeautifulSoup\n",
    "import pandas as pd\n",
    "from selenium import webdriver"
   ]
  },
  {
   "cell_type": "markdown",
   "id": "50f8c759",
   "metadata": {},
   "source": [
    "### working with Webdriver to get source of Page"
   ]
  },
  {
   "cell_type": "code",
   "execution_count": 2,
   "id": "29742888",
   "metadata": {},
   "outputs": [],
   "source": [
    "options = webdriver.ChromeOptions()\n",
    "\n",
    "options.add_argument(\"--incognito\")\n",
    "browser = webdriver.Chrome(\"C:\\chromedriver\\chromedriver.exe\", options = options)\n",
    "browser.get(\"https://www.reed.co.uk/jobs/cleaner-jobs-in-london?proximity=0\")"
   ]
  },
  {
   "cell_type": "markdown",
   "id": "dad32204",
   "metadata": {},
   "source": [
    "### Beautifying the source Page"
   ]
  },
  {
   "cell_type": "code",
   "execution_count": 3,
   "id": "35e4a5cd",
   "metadata": {},
   "outputs": [],
   "source": [
    "src = browser.page_source\n",
    "soup=BeautifulSoup(src)"
   ]
  },
  {
   "cell_type": "markdown",
   "id": "8573730d",
   "metadata": {},
   "source": [
    "#### Getting necessary elements from the page"
   ]
  },
  {
   "cell_type": "code",
   "execution_count": 9,
   "id": "ba9041a4",
   "metadata": {},
   "outputs": [],
   "source": [
    "company = soup.find_all('a', attrs = {'class' : 'gtmJobListingPostedBy'})\n",
    "job = soup.find_all('h3', attrs = {'class' : 'title'})\n",
    "city_zip = soup.find_all('li', attrs = {'class' : 'location'})\n",
    "time = soup.find_all('div', attrs = {'class' : 'posted-by'})"
   ]
  },
  {
   "cell_type": "code",
   "execution_count": 12,
   "id": "ee75da35",
   "metadata": {},
   "outputs": [],
   "source": [
    "company_name = []\n",
    "job_title = []\n",
    "posted_date = []\n",
    "area = []\n",
    "for i in range(len(company)):\n",
    "    company_name.append(company[i].text.strip())\n",
    "    job_title.append(job[i].text.strip())\n",
    "    posted_date.append(time[i].text.strip())\n",
    "    area.append(city_zip[i].text.strip())\n",
    "    "
   ]
  },
  {
   "cell_type": "markdown",
   "id": "e7f32c8f",
   "metadata": {},
   "source": [
    "#### Iterating over all pages of Site"
   ]
  },
  {
   "cell_type": "code",
   "execution_count": 16,
   "id": "97e1665c",
   "metadata": {},
   "outputs": [],
   "source": [
    "for i in range(2,23):\n",
    "    browser.get(\"https://www.reed.co.uk/jobs/cleaner-jobs-in-london?pageno=\"+str(i)+\"&proximity=0\")\n",
    "    src = browser.page_source\n",
    "    soup=BeautifulSoup(src)\n",
    "    company = soup.find_all('a', attrs = {'class' : 'gtmJobListingPostedBy'})\n",
    "    job = soup.find_all('h3', attrs = {'class' : 'title'})\n",
    "    city_zip = soup.find_all('li', attrs = {'class' : 'location'})\n",
    "    time = soup.find_all('div', attrs = {'class' : 'posted-by'})    \n",
    "    for i in range(len(job)):\n",
    "        company_name.append(company[i].text.strip())\n",
    "        job_title.append(job[i].text.strip())\n",
    "        area.append(city_zip[i].text.strip())\n",
    "        posted_date.append(time[i].text.strip())"
   ]
  },
  {
   "cell_type": "code",
   "execution_count": 17,
   "id": "79c94812",
   "metadata": {},
   "outputs": [
    {
     "data": {
      "text/html": [
       "<div>\n",
       "<style scoped>\n",
       "    .dataframe tbody tr th:only-of-type {\n",
       "        vertical-align: middle;\n",
       "    }\n",
       "\n",
       "    .dataframe tbody tr th {\n",
       "        vertical-align: top;\n",
       "    }\n",
       "\n",
       "    .dataframe thead th {\n",
       "        text-align: right;\n",
       "    }\n",
       "</style>\n",
       "<table border=\"1\" class=\"dataframe\">\n",
       "  <thead>\n",
       "    <tr style=\"text-align: right;\">\n",
       "      <th></th>\n",
       "      <th>Role</th>\n",
       "      <th>Company</th>\n",
       "      <th>Area/Zip</th>\n",
       "      <th>Posted Datetime</th>\n",
       "    </tr>\n",
       "  </thead>\n",
       "  <tbody>\n",
       "    <tr>\n",
       "      <th>0</th>\n",
       "      <td>Cleaner</td>\n",
       "      <td>Abbatt Property Recruitment</td>\n",
       "      <td>London\\n                        London</td>\n",
       "      <td>Posted 23 July by Abbatt Property Recruitment\\...</td>\n",
       "    </tr>\n",
       "    <tr>\n",
       "      <th>1</th>\n",
       "      <td>Cleaner</td>\n",
       "      <td>Abbatt Property Recruitment</td>\n",
       "      <td>London\\n                        London</td>\n",
       "      <td>Posted 2 August by Abbatt Property Recruitment</td>\n",
       "    </tr>\n",
       "    <tr>\n",
       "      <th>2</th>\n",
       "      <td>Cleaner</td>\n",
       "      <td>Remora Cleaning</td>\n",
       "      <td>London\\n                        London</td>\n",
       "      <td>Posted 5 days ago by Remora Cleaning\\n\\nEasy A...</td>\n",
       "    </tr>\n",
       "    <tr>\n",
       "      <th>3</th>\n",
       "      <td>Cleaner</td>\n",
       "      <td>Adecco</td>\n",
       "      <td>London\\n                        London</td>\n",
       "      <td>Posted 19 July by Adecco \\n\\nEasy Apply</td>\n",
       "    </tr>\n",
       "    <tr>\n",
       "      <th>4</th>\n",
       "      <td>Cleaner</td>\n",
       "      <td>Randstad Construction, Property and Engineering</td>\n",
       "      <td>London\\n                        London</td>\n",
       "      <td>Posted 28 July by Randstad Construction, Prope...</td>\n",
       "    </tr>\n",
       "    <tr>\n",
       "      <th>...</th>\n",
       "      <td>...</td>\n",
       "      <td>...</td>\n",
       "      <td>...</td>\n",
       "      <td>...</td>\n",
       "    </tr>\n",
       "    <tr>\n",
       "      <th>545</th>\n",
       "      <td>Data Analyst</td>\n",
       "      <td>PROFESSIONAL PEOPLE</td>\n",
       "      <td>Ealing\\n                        London</td>\n",
       "      <td>Posted 2 days ago by Corr Recruitment\\n\\nNew\\n...</td>\n",
       "    </tr>\n",
       "    <tr>\n",
       "      <th>546</th>\n",
       "      <td>Room Attendant in London</td>\n",
       "      <td>INTEC SELECT LIMITED</td>\n",
       "      <td>Neasden\\n                        London</td>\n",
       "      <td>Posted 5 August by REED Procurement &amp; Supply C...</td>\n",
       "    </tr>\n",
       "    <tr>\n",
       "      <th>547</th>\n",
       "      <td>Facilities Manager</td>\n",
       "      <td>Corr Recruitment</td>\n",
       "      <td>London\\n                        London</td>\n",
       "      <td>Posted 5 days ago by HR GO Recruitment</td>\n",
       "    </tr>\n",
       "    <tr>\n",
       "      <th>548</th>\n",
       "      <td>Caretaker/ Handyman</td>\n",
       "      <td>REED Procurement &amp; Supply Chain</td>\n",
       "      <td>London\\n                        London</td>\n",
       "      <td>Posted 23 July by GradBay\\n\\nFeatured\\nEasy Apply</td>\n",
       "    </tr>\n",
       "    <tr>\n",
       "      <th>549</th>\n",
       "      <td>AI Research Scientist Grad Job  £30K  Artifici...</td>\n",
       "      <td>HR GO Recruitment</td>\n",
       "      <td>London\\n                        London</td>\n",
       "      <td>Posted 25 July by Page Personnel Property &amp; Co...</td>\n",
       "    </tr>\n",
       "  </tbody>\n",
       "</table>\n",
       "<p>550 rows × 4 columns</p>\n",
       "</div>"
      ],
      "text/plain": [
       "                                                  Role  \\\n",
       "0                                              Cleaner   \n",
       "1                                              Cleaner   \n",
       "2                                              Cleaner   \n",
       "3                                              Cleaner   \n",
       "4                                              Cleaner   \n",
       "..                                                 ...   \n",
       "545                                       Data Analyst   \n",
       "546                           Room Attendant in London   \n",
       "547                                 Facilities Manager   \n",
       "548                                Caretaker/ Handyman   \n",
       "549  AI Research Scientist Grad Job  £30K  Artifici...   \n",
       "\n",
       "                                             Company  \\\n",
       "0                        Abbatt Property Recruitment   \n",
       "1                        Abbatt Property Recruitment   \n",
       "2                                    Remora Cleaning   \n",
       "3                                             Adecco   \n",
       "4    Randstad Construction, Property and Engineering   \n",
       "..                                               ...   \n",
       "545                              PROFESSIONAL PEOPLE   \n",
       "546                             INTEC SELECT LIMITED   \n",
       "547                                 Corr Recruitment   \n",
       "548                  REED Procurement & Supply Chain   \n",
       "549                                HR GO Recruitment   \n",
       "\n",
       "                                    Area/Zip  \\\n",
       "0     London\\n                        London   \n",
       "1     London\\n                        London   \n",
       "2     London\\n                        London   \n",
       "3     London\\n                        London   \n",
       "4     London\\n                        London   \n",
       "..                                       ...   \n",
       "545   Ealing\\n                        London   \n",
       "546  Neasden\\n                        London   \n",
       "547   London\\n                        London   \n",
       "548   London\\n                        London   \n",
       "549   London\\n                        London   \n",
       "\n",
       "                                       Posted Datetime  \n",
       "0    Posted 23 July by Abbatt Property Recruitment\\...  \n",
       "1       Posted 2 August by Abbatt Property Recruitment  \n",
       "2    Posted 5 days ago by Remora Cleaning\\n\\nEasy A...  \n",
       "3              Posted 19 July by Adecco \\n\\nEasy Apply  \n",
       "4    Posted 28 July by Randstad Construction, Prope...  \n",
       "..                                                 ...  \n",
       "545  Posted 2 days ago by Corr Recruitment\\n\\nNew\\n...  \n",
       "546  Posted 5 August by REED Procurement & Supply C...  \n",
       "547             Posted 5 days ago by HR GO Recruitment  \n",
       "548  Posted 23 July by GradBay\\n\\nFeatured\\nEasy Apply  \n",
       "549  Posted 25 July by Page Personnel Property & Co...  \n",
       "\n",
       "[550 rows x 4 columns]"
      ]
     },
     "execution_count": 17,
     "metadata": {},
     "output_type": "execute_result"
    }
   ],
   "source": [
    "df = pd.DataFrame(list(zip(job_title, company_name, area, posted_date)), columns=['Role','Company','Area/Zip','Posted Datetime'])\n",
    "df"
   ]
  },
  {
   "cell_type": "code",
   "execution_count": 18,
   "id": "b44fb222",
   "metadata": {},
   "outputs": [
    {
     "name": "stdout",
     "output_type": "stream",
     "text": [
      "      Role                                          Company  \\\n",
      "0  Cleaner                      Abbatt Property Recruitment   \n",
      "1  Cleaner                      Abbatt Property Recruitment   \n",
      "2  Cleaner                                  Remora Cleaning   \n",
      "3  Cleaner                                           Adecco   \n",
      "4  Cleaner  Randstad Construction, Property and Engineering   \n",
      "\n",
      "                                 Area/Zip  \\\n",
      "0  London\\n                        London   \n",
      "1  London\\n                        London   \n",
      "2  London\\n                        London   \n",
      "3  London\\n                        London   \n",
      "4  London\\n                        London   \n",
      "\n",
      "                                     Posted Datetime  \n",
      "0  Posted 23 July by Abbatt Property Recruitment\\...  \n",
      "1     Posted 2 August by Abbatt Property Recruitment  \n",
      "2  Posted 5 days ago by Remora Cleaning\\n\\nEasy A...  \n",
      "3            Posted 19 July by Adecco \\n\\nEasy Apply  \n",
      "4  Posted 28 July by Randstad Construction, Prope...  \n"
     ]
    },
    {
     "data": {
      "text/plain": [
       "(550, 4)"
      ]
     },
     "execution_count": 18,
     "metadata": {},
     "output_type": "execute_result"
    }
   ],
   "source": [
    "print(df.head())\n",
    "df.shape"
   ]
  },
  {
   "cell_type": "markdown",
   "id": "6ad6ced9",
   "metadata": {},
   "source": [
    "### Creating a CSV file of finding data"
   ]
  },
  {
   "cell_type": "code",
   "execution_count": 19,
   "id": "0af71270",
   "metadata": {},
   "outputs": [],
   "source": [
    "df.to_csv('Read-co-uk_Portal.csv')"
   ]
  },
  {
   "cell_type": "code",
   "execution_count": null,
   "id": "f516682c",
   "metadata": {},
   "outputs": [],
   "source": []
  }
 ],
 "metadata": {
  "kernelspec": {
   "display_name": "Python 3",
   "language": "python",
   "name": "python3"
  },
  "language_info": {
   "codemirror_mode": {
    "name": "ipython",
    "version": 3
   },
   "file_extension": ".py",
   "mimetype": "text/x-python",
   "name": "python",
   "nbconvert_exporter": "python",
   "pygments_lexer": "ipython3",
   "version": "3.8.8"
  }
 },
 "nbformat": 4,
 "nbformat_minor": 5
}
