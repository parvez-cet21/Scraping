{
 "cells": [
  {
   "cell_type": "markdown",
   "id": "9c185607",
   "metadata": {},
   "source": [
    "## Import Necessary Libraries"
   ]
  },
  {
   "cell_type": "code",
   "execution_count": 1,
   "id": "d94a2b5b",
   "metadata": {},
   "outputs": [],
   "source": [
    "import pandas as pd\n",
    "from bs4 import BeautifulSoup\n",
    "import pandas as pd\n",
    "from selenium import webdriver"
   ]
  },
  {
   "cell_type": "markdown",
   "id": "5774a328",
   "metadata": {},
   "source": [
    "### working with Webdriver to get source of Page"
   ]
  },
  {
   "cell_type": "code",
   "execution_count": 2,
   "id": "479099b9",
   "metadata": {},
   "outputs": [],
   "source": [
    "options = webdriver.ChromeOptions()\n",
    "\n",
    "options.add_argument(\"--incognito\")\n",
    "browser = webdriver.Chrome(\"C:\\chromedriver\\chromedriver.exe\", options = options)\n",
    "browser.get(\"https://www.bidvine.com/domestic-cleaning/near-me?utm_campaign=con-jack-domestic+cleaning-very+low&utm_medium=cpc&utm_source=Google&criteria_id=9061356&gclid=Cj0KCQjw6s2IBhCnARIsAP8RfAggCVfzU1JY6WTL9nuuTurPCYSP1U1IVtJ0Nm6sgrJ4xpdcjjjJA10aAloHEALw_wcB\")\n"
   ]
  },
  {
   "cell_type": "markdown",
   "id": "8f7e41d2",
   "metadata": {},
   "source": [
    "### Beautifying the source Page"
   ]
  },
  {
   "cell_type": "code",
   "execution_count": 3,
   "id": "c864bd14",
   "metadata": {},
   "outputs": [],
   "source": [
    "src = browser.page_source\n",
    "soup=BeautifulSoup(src)"
   ]
  },
  {
   "cell_type": "markdown",
   "id": "5949066b",
   "metadata": {},
   "source": [
    "#### Getting necessary elements from the page"
   ]
  },
  {
   "cell_type": "code",
   "execution_count": 6,
   "id": "e2f01471",
   "metadata": {},
   "outputs": [],
   "source": [
    "city_zip = soup.find_all('p', attrs = {'class' : 'mb-0 text-truncate'})\n"
   ]
  },
  {
   "cell_type": "code",
   "execution_count": 7,
   "id": "6ab4e851",
   "metadata": {},
   "outputs": [
    {
     "name": "stdout",
     "output_type": "stream",
     "text": [
      "86\n"
     ]
    }
   ],
   "source": [
    "print(len(city_zip))\n"
   ]
  },
  {
   "cell_type": "code",
   "execution_count": 8,
   "id": "d879c7a0",
   "metadata": {},
   "outputs": [],
   "source": [
    "area = []\n",
    "\n",
    "for i in range(len(city_zip)):\n",
    "    area.append(city_zip[i].text.strip())\n",
    "    "
   ]
  },
  {
   "cell_type": "code",
   "execution_count": 48,
   "id": "df10348d",
   "metadata": {},
   "outputs": [
    {
     "name": "stdout",
     "output_type": "stream",
     "text": [
      "412\n"
     ]
    }
   ],
   "source": [
    "from nltk import flatten\n",
    "\n",
    "company_name_z = flatten(company_name)\n",
    "job_title_z = flatten(job_title)\n",
    "posted_date_z = flatten(posted_date)\n",
    "area_z = flatten(area)\n",
    "print(len(company_name_z))"
   ]
  },
  {
   "cell_type": "code",
   "execution_count": 12,
   "id": "dcf29d95",
   "metadata": {},
   "outputs": [
    {
     "data": {
      "text/plain": [
       "Area/Zip                          \n",
       "Package discounts                     9\n",
       "Discounts available                   4\n",
       "Croydon, London CR0                   2\n",
       "Enfield, London EN1                   2\n",
       "Covent Garden, London WC2H            2\n",
       "                                     ..\n",
       "Hammersmith and Fulham, London W14    1\n",
       "Hammersmith, London W6                1\n",
       "Haringey, London N22                  1\n",
       "Angel, London EC1V                    1\n",
       "Woolwich, London E16                  1\n",
       "Length: 64, dtype: int64"
      ]
     },
     "execution_count": 12,
     "metadata": {},
     "output_type": "execute_result"
    }
   ],
   "source": [
    "df2 = pd.DataFrame(list(zip(area)), columns=['Area/Zip'])\n",
    "df2.value_counts()"
   ]
  },
  {
   "cell_type": "code",
   "execution_count": null,
   "id": "4e372ff7",
   "metadata": {},
   "outputs": [],
   "source": []
  },
  {
   "cell_type": "code",
   "execution_count": 11,
   "id": "3eb837cc",
   "metadata": {},
   "outputs": [
    {
     "name": "stdout",
     "output_type": "stream",
     "text": [
      "                      Area/Zip\n",
      "0           Angel, London EC1V\n",
      "1          Bexley, London DA17\n",
      "2           Sutton, London SM1\n",
      "3          Enfield, London EN1\n",
      "4            Newham, London E7\n",
      "5      Bermondsey, London SE17\n",
      "6         Stratford, London E3\n",
      "7           Acton, London NW10\n",
      "8          Haringey, London N8\n",
      "9        Colindale, London NW9\n",
      "10        Tooting, London SW17\n",
      "11         Putney, London SW15\n",
      "12        Haringey, London N22\n",
      "13        Edmonton, London N18\n",
      "14         Discounts available\n",
      "15       Uxbridge, London UB10\n",
      "16              Free first job\n",
      "17       Lewisham, London SE13\n",
      "18  Covent Garden, London WC2H\n",
      "19       Finchley, London NW11\n"
     ]
    },
    {
     "data": {
      "text/plain": [
       "(86, 1)"
      ]
     },
     "execution_count": 11,
     "metadata": {},
     "output_type": "execute_result"
    }
   ],
   "source": [
    "print(df2.head(20))\n",
    "df2.shape"
   ]
  },
  {
   "cell_type": "code",
   "execution_count": null,
   "id": "950dae95",
   "metadata": {},
   "outputs": [],
   "source": []
  },
  {
   "cell_type": "code",
   "execution_count": null,
   "id": "8cd579a5",
   "metadata": {},
   "outputs": [],
   "source": [
    "for i in range(2,10):\n",
    "    df.drop(df[df['Datetime_Posted']==str(i)+' months ago'].index, inplace = True)\n",
    "    print(df.shape)\n",
    "\n",
    "df.shape"
   ]
  },
  {
   "cell_type": "markdown",
   "id": "ea27d693",
   "metadata": {},
   "source": [
    "### Creating a CSV file of finding data"
   ]
  },
  {
   "cell_type": "code",
   "execution_count": 10,
   "id": "d8f1322d",
   "metadata": {},
   "outputs": [],
   "source": [
    "df2.to_csv('Bidvine.csv')"
   ]
  },
  {
   "cell_type": "code",
   "execution_count": null,
   "id": "c05a02ce",
   "metadata": {},
   "outputs": [],
   "source": []
  }
 ],
 "metadata": {
  "kernelspec": {
   "display_name": "Python 3",
   "language": "python",
   "name": "python3"
  },
  "language_info": {
   "codemirror_mode": {
    "name": "ipython",
    "version": 3
   },
   "file_extension": ".py",
   "mimetype": "text/x-python",
   "name": "python",
   "nbconvert_exporter": "python",
   "pygments_lexer": "ipython3",
   "version": "3.8.8"
  }
 },
 "nbformat": 4,
 "nbformat_minor": 5
}
