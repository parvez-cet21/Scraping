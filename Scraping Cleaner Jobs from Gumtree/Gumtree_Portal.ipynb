{
 "cells": [
  {
   "cell_type": "markdown",
   "id": "9c185607",
   "metadata": {},
   "source": [
    "## Import Necessary Libraries"
   ]
  },
  {
   "cell_type": "code",
   "execution_count": 1,
   "id": "d94a2b5b",
   "metadata": {},
   "outputs": [],
   "source": [
    "import pandas as pd\n",
    "from bs4 import BeautifulSoup\n",
    "import pandas as pd\n",
    "from selenium import webdriver"
   ]
  },
  {
   "cell_type": "markdown",
   "id": "5774a328",
   "metadata": {},
   "source": [
    "### working with Webdriver to get source of Page"
   ]
  },
  {
   "cell_type": "code",
   "execution_count": 2,
   "id": "479099b9",
   "metadata": {},
   "outputs": [],
   "source": [
    "options = webdriver.ChromeOptions()\n",
    "\n",
    "browser = webdriver.Chrome(\"C:\\chromedriver\\chromedriver.exe\", options = options)\n",
    "browser.get(\"https://www.gumtree.com/search?featured_filter=false&urgent_filter=false&sort=date&search_scope=false&photos_filter=false&search_category=all&q=cleaners&search_location=London\")\n"
   ]
  },
  {
   "cell_type": "markdown",
   "id": "8f7e41d2",
   "metadata": {},
   "source": [
    "### Beautifying the source Page"
   ]
  },
  {
   "cell_type": "code",
   "execution_count": 3,
   "id": "c864bd14",
   "metadata": {},
   "outputs": [],
   "source": [
    "src = browser.page_source\n",
    "soup=BeautifulSoup(src)"
   ]
  },
  {
   "cell_type": "markdown",
   "id": "5949066b",
   "metadata": {},
   "source": [
    "#### Getting necessary elements from the page"
   ]
  },
  {
   "cell_type": "code",
   "execution_count": 16,
   "id": "e2f01471",
   "metadata": {},
   "outputs": [],
   "source": [
    "job = soup.find_all('h2', attrs = {'class' : 'listing-title'})\n",
    "city_zip = soup.find_all('div', attrs = {'class' : 'listing-location'})\n",
    "time = soup.find_all('span', attrs = {'class' : ['truncate-line txt-tertiary','clearfix txt-agnosticRed txt-uppercase']})"
   ]
  },
  {
   "cell_type": "code",
   "execution_count": 32,
   "id": "6ab4e851",
   "metadata": {},
   "outputs": [
    {
     "name": "stdout",
     "output_type": "stream",
     "text": [
      "31\n",
      "31\n",
      "30\n",
      "61\n"
     ]
    }
   ],
   "source": [
    "print(len(job))\n",
    "print(len(city_zip))\n",
    "print(len(time))\n",
    "min([len(time),len(job),len(city_zip)])\n",
    "min_index = min([len(time),len(job),len(city_zip)])\n",
    "max_index = max([len(time),len(job),len(city_zip)])\n",
    "print(min_index+max_index)    \n",
    "if len(job)==max_index:\n",
    "    job_title.append(job[i+(max_index-min_index)].text.strip())\n",
    "elif len(job)!=min_index:\n",
    "    job_title.append(job[i+(max_index-len(job))].text.strip())\n",
    "else:\n",
    "    job_title.append(job[i].text.strip())\n",
    "        "
   ]
  },
  {
   "cell_type": "code",
   "execution_count": 33,
   "id": "d879c7a0",
   "metadata": {},
   "outputs": [],
   "source": [
    "job_title = []\n",
    "posted_date = []\n",
    "area = []\n",
    "\n",
    "for i in range(len(time)):\n",
    "    job_title.append(job[i+1].text.strip())\n",
    "    posted_date.append(time[i].text.strip())\n",
    "    area.append(city_zip[i+1].text.strip())\n",
    "    "
   ]
  },
  {
   "cell_type": "code",
   "execution_count": 34,
   "id": "ac20f0b0",
   "metadata": {},
   "outputs": [],
   "source": [
    "for i in range(2,32):\n",
    "    browser.get(\"https://www.gumtree.com/search?search_category=domestic-cleaning-services&search_location=london&q=cleaners&page=\"+str(i))\n",
    "    src = browser.page_source\n",
    "    soup=BeautifulSoup(src)\n",
    "    job = soup.find_all('h2', attrs = {'class' : 'listing-title'})\n",
    "    city_zip = soup.find_all('div', attrs = {'class' : 'listing-location'})\n",
    "    time = soup.find_all('span', attrs = {'class' : ['truncate-line txt-tertiary','clearfix txt-agnosticRed txt-uppercase']})    \n",
    "    min_index = min([len(time),len(job),len(city_zip)])\n",
    "    max_index = max([len(time),len(job),len(city_zip)])\n",
    "    for i in range(min_index):\n",
    "        if len(job)==max_index:\n",
    "            job_title.append(job[i+(max_index-min_index)].text.strip())\n",
    "        elif len(job)!=min_index:\n",
    "            job_title.append(job[i+(max_index-len(job))].text.strip())\n",
    "        else:\n",
    "            job_title.append(job[i].text.strip())\n",
    "        if len(time)==max_index:\n",
    "            posted_date.append(time[i+(max_index-min_index)].text.strip())\n",
    "        elif len(time)!=min_index:\n",
    "            posted_date.append(time[i+(max_index-len(time))].text.strip())\n",
    "        else:\n",
    "            posted_date.append(time[i].text.strip())\n",
    "        if len(city_zip)==max_index:\n",
    "            area.append(city_zip[i+(max_index-min_index)].text.strip())\n",
    "        elif len(city_zip)!=min_index:\n",
    "            area.append(city_zip[i+(max_index-len(city_zip))].text.strip())\n",
    "        else:\n",
    "            area.append(city_zip[i].text.strip())\n",
    "       "
   ]
  },
  {
   "cell_type": "markdown",
   "id": "9286260b",
   "metadata": {},
   "source": [
    "#### Iterating over all pages of Site"
   ]
  },
  {
   "cell_type": "code",
   "execution_count": 35,
   "id": "dcf29d95",
   "metadata": {},
   "outputs": [
    {
     "data": {
      "text/html": [
       "<div>\n",
       "<style scoped>\n",
       "    .dataframe tbody tr th:only-of-type {\n",
       "        vertical-align: middle;\n",
       "    }\n",
       "\n",
       "    .dataframe tbody tr th {\n",
       "        vertical-align: top;\n",
       "    }\n",
       "\n",
       "    .dataframe thead th {\n",
       "        text-align: right;\n",
       "    }\n",
       "</style>\n",
       "<table border=\"1\" class=\"dataframe\">\n",
       "  <thead>\n",
       "    <tr style=\"text-align: right;\">\n",
       "      <th></th>\n",
       "      <th>Role</th>\n",
       "      <th>Area/Zip</th>\n",
       "      <th>Posted Datetime</th>\n",
       "    </tr>\n",
       "  </thead>\n",
       "  <tbody>\n",
       "    <tr>\n",
       "      <th>0</th>\n",
       "      <td>Office cleaning services from £12/h, Commercia...</td>\n",
       "      <td>City of London, London</td>\n",
       "      <td>Ad posted \\n5 days ago</td>\n",
       "    </tr>\n",
       "    <tr>\n",
       "      <th>1</th>\n",
       "      <td>London: Choose a Domestic Cleaner (House Clean...</td>\n",
       "      <td>Hyde Park, London</td>\n",
       "      <td>Ad posted \\n11 days ago</td>\n",
       "    </tr>\n",
       "    <tr>\n",
       "      <th>2</th>\n",
       "      <td>Domestic &amp; Commercial Cleaning, End of Tenancy...</td>\n",
       "      <td>Westminster, London</td>\n",
       "      <td>Ad posted \\n3 days ago</td>\n",
       "    </tr>\n",
       "    <tr>\n",
       "      <th>3</th>\n",
       "      <td>Choose a Domestic Cleaner, Pick a Time - from ...</td>\n",
       "      <td>Ealing, London</td>\n",
       "      <td>Ad posted \\n11 days ago</td>\n",
       "    </tr>\n",
       "    <tr>\n",
       "      <th>4</th>\n",
       "      <td>Choose a Local Domestic Cleaner - from 12/h - ...</td>\n",
       "      <td>Southwark, London</td>\n",
       "      <td>Ad posted \\n11 days ago</td>\n",
       "    </tr>\n",
       "    <tr>\n",
       "      <th>...</th>\n",
       "      <td>...</td>\n",
       "      <td>...</td>\n",
       "      <td>...</td>\n",
       "    </tr>\n",
       "    <tr>\n",
       "      <th>415</th>\n",
       "      <td>End of Tenancy, Office Cleaning at Your Servic...</td>\n",
       "      <td>Lewisham, London</td>\n",
       "      <td>Ad posted \\n19 days ago</td>\n",
       "    </tr>\n",
       "    <tr>\n",
       "      <th>416</th>\n",
       "      <td>End of Tenancy, Communal Home &amp; Office Cleanin...</td>\n",
       "      <td>Norbury, London</td>\n",
       "      <td>Ad posted \\n19 days ago</td>\n",
       "    </tr>\n",
       "    <tr>\n",
       "      <th>417</th>\n",
       "      <td>End of Tenancy / One Off Deep Cleans / After B...</td>\n",
       "      <td>Croydon, London</td>\n",
       "      <td>Ad posted \\n19 days ago</td>\n",
       "    </tr>\n",
       "    <tr>\n",
       "      <th>418</th>\n",
       "      <td>PROFESSIONAL DOMESTIC,DEEP,END OF TENANCY,ONE ...</td>\n",
       "      <td>Canning Town, London</td>\n",
       "      <td>Ad posted \\n19 days ago</td>\n",
       "    </tr>\n",
       "    <tr>\n",
       "      <th>419</th>\n",
       "      <td>GUTTERS CLEARING AND CLEANING EAST LONDON, ESS...</td>\n",
       "      <td>Romford, London</td>\n",
       "      <td>Ad posted \\n19 days ago</td>\n",
       "    </tr>\n",
       "  </tbody>\n",
       "</table>\n",
       "<p>420 rows × 3 columns</p>\n",
       "</div>"
      ],
      "text/plain": [
       "                                                  Role  \\\n",
       "0    Office cleaning services from £12/h, Commercia...   \n",
       "1    London: Choose a Domestic Cleaner (House Clean...   \n",
       "2    Domestic & Commercial Cleaning, End of Tenancy...   \n",
       "3    Choose a Domestic Cleaner, Pick a Time - from ...   \n",
       "4    Choose a Local Domestic Cleaner - from 12/h - ...   \n",
       "..                                                 ...   \n",
       "415  End of Tenancy, Office Cleaning at Your Servic...   \n",
       "416  End of Tenancy, Communal Home & Office Cleanin...   \n",
       "417  End of Tenancy / One Off Deep Cleans / After B...   \n",
       "418  PROFESSIONAL DOMESTIC,DEEP,END OF TENANCY,ONE ...   \n",
       "419  GUTTERS CLEARING AND CLEANING EAST LONDON, ESS...   \n",
       "\n",
       "                   Area/Zip          Posted Datetime  \n",
       "0    City of London, London   Ad posted \\n5 days ago  \n",
       "1         Hyde Park, London  Ad posted \\n11 days ago  \n",
       "2       Westminster, London   Ad posted \\n3 days ago  \n",
       "3            Ealing, London  Ad posted \\n11 days ago  \n",
       "4         Southwark, London  Ad posted \\n11 days ago  \n",
       "..                      ...                      ...  \n",
       "415        Lewisham, London  Ad posted \\n19 days ago  \n",
       "416         Norbury, London  Ad posted \\n19 days ago  \n",
       "417         Croydon, London  Ad posted \\n19 days ago  \n",
       "418    Canning Town, London  Ad posted \\n19 days ago  \n",
       "419         Romford, London  Ad posted \\n19 days ago  \n",
       "\n",
       "[420 rows x 3 columns]"
      ]
     },
     "execution_count": 35,
     "metadata": {},
     "output_type": "execute_result"
    }
   ],
   "source": [
    "df = pd.DataFrame(list(zip(job_title, area, posted_date)), columns=['Role','Area/Zip','Posted Datetime'])\n",
    "df"
   ]
  },
  {
   "cell_type": "markdown",
   "id": "ea27d693",
   "metadata": {},
   "source": [
    "### Creating a CSV file of finding data"
   ]
  },
  {
   "cell_type": "code",
   "execution_count": 36,
   "id": "d8f1322d",
   "metadata": {},
   "outputs": [],
   "source": [
    "df.to_csv('Gumtree_Portal_Updated.csv')"
   ]
  }
 ],
 "metadata": {
  "kernelspec": {
   "display_name": "Python 3",
   "language": "python",
   "name": "python3"
  },
  "language_info": {
   "codemirror_mode": {
    "name": "ipython",
    "version": 3
   },
   "file_extension": ".py",
   "mimetype": "text/x-python",
   "name": "python",
   "nbconvert_exporter": "python",
   "pygments_lexer": "ipython3",
   "version": "3.8.8"
  }
 },
 "nbformat": 4,
 "nbformat_minor": 5
}
