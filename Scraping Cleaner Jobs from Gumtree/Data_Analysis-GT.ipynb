{
 "cells": [
  {
   "cell_type": "code",
   "execution_count": 1,
   "id": "37e213e6",
   "metadata": {},
   "outputs": [],
   "source": [
    "import seaborn as sns"
   ]
  },
  {
   "cell_type": "code",
   "execution_count": 2,
   "id": "3a85c229",
   "metadata": {},
   "outputs": [],
   "source": [
    "import pandas as pd\n",
    "import matplotlib.pyplot as plt\n",
    "import numpy as np"
   ]
  },
  {
   "cell_type": "code",
   "execution_count": 3,
   "id": "3719c1fd",
   "metadata": {},
   "outputs": [],
   "source": [
    "gumtree_data = pd.read_csv('Gumtree_Portal_Updated.csv',index_col='Unnamed: 0')"
   ]
  },
  {
   "cell_type": "code",
   "execution_count": 4,
   "id": "fe5e97cd",
   "metadata": {},
   "outputs": [
    {
     "data": {
      "text/html": [
       "<div>\n",
       "<style scoped>\n",
       "    .dataframe tbody tr th:only-of-type {\n",
       "        vertical-align: middle;\n",
       "    }\n",
       "\n",
       "    .dataframe tbody tr th {\n",
       "        vertical-align: top;\n",
       "    }\n",
       "\n",
       "    .dataframe thead th {\n",
       "        text-align: right;\n",
       "    }\n",
       "</style>\n",
       "<table border=\"1\" class=\"dataframe\">\n",
       "  <thead>\n",
       "    <tr style=\"text-align: right;\">\n",
       "      <th></th>\n",
       "      <th>Role</th>\n",
       "      <th>Area/Zip</th>\n",
       "      <th>Posted Datetime</th>\n",
       "    </tr>\n",
       "  </thead>\n",
       "  <tbody>\n",
       "    <tr>\n",
       "      <th>0</th>\n",
       "      <td>Office cleaning services from £12/h, Commercia...</td>\n",
       "      <td>City of London, London</td>\n",
       "      <td>Ad posted \\n5 days ago</td>\n",
       "    </tr>\n",
       "    <tr>\n",
       "      <th>1</th>\n",
       "      <td>London: Choose a Domestic Cleaner (House Clean...</td>\n",
       "      <td>Hyde Park, London</td>\n",
       "      <td>Ad posted \\n11 days ago</td>\n",
       "    </tr>\n",
       "    <tr>\n",
       "      <th>2</th>\n",
       "      <td>Domestic &amp; Commercial Cleaning, End of Tenancy...</td>\n",
       "      <td>Westminster, London</td>\n",
       "      <td>Ad posted \\n3 days ago</td>\n",
       "    </tr>\n",
       "    <tr>\n",
       "      <th>3</th>\n",
       "      <td>Choose a Domestic Cleaner, Pick a Time - from ...</td>\n",
       "      <td>Ealing, London</td>\n",
       "      <td>Ad posted \\n11 days ago</td>\n",
       "    </tr>\n",
       "    <tr>\n",
       "      <th>4</th>\n",
       "      <td>Choose a Local Domestic Cleaner - from 12/h - ...</td>\n",
       "      <td>Southwark, London</td>\n",
       "      <td>Ad posted \\n11 days ago</td>\n",
       "    </tr>\n",
       "  </tbody>\n",
       "</table>\n",
       "</div>"
      ],
      "text/plain": [
       "                                                Role                Area/Zip  \\\n",
       "0  Office cleaning services from £12/h, Commercia...  City of London, London   \n",
       "1  London: Choose a Domestic Cleaner (House Clean...       Hyde Park, London   \n",
       "2  Domestic & Commercial Cleaning, End of Tenancy...     Westminster, London   \n",
       "3  Choose a Domestic Cleaner, Pick a Time - from ...          Ealing, London   \n",
       "4  Choose a Local Domestic Cleaner - from 12/h - ...       Southwark, London   \n",
       "\n",
       "           Posted Datetime  \n",
       "0   Ad posted \\n5 days ago  \n",
       "1  Ad posted \\n11 days ago  \n",
       "2   Ad posted \\n3 days ago  \n",
       "3  Ad posted \\n11 days ago  \n",
       "4  Ad posted \\n11 days ago  "
      ]
     },
     "execution_count": 4,
     "metadata": {},
     "output_type": "execute_result"
    }
   ],
   "source": [
    "gumtree_data.head()"
   ]
  },
  {
   "cell_type": "code",
   "execution_count": 5,
   "id": "44f927ec",
   "metadata": {},
   "outputs": [
    {
     "data": {
      "text/plain": [
       "Newham, London            13\n",
       "Ealing, London            13\n",
       "City of London, London    12\n",
       "Hackney, London           11\n",
       "Westminster, London       11\n",
       "                          ..\n",
       "Gants Hill, London         1\n",
       "Tottenham, London          1\n",
       "Kentish Town, London       1\n",
       "Southgate, London          1\n",
       "Plaistow, London           1\n",
       "Name: Area/Zip, Length: 129, dtype: int64"
      ]
     },
     "execution_count": 5,
     "metadata": {},
     "output_type": "execute_result"
    }
   ],
   "source": [
    "gumtree_data['Area/Zip'].value_counts()"
   ]
  },
  {
   "cell_type": "code",
   "execution_count": 6,
   "id": "65bee39d",
   "metadata": {},
   "outputs": [],
   "source": [
    "def make_autopct(values):\n",
    "    def my_autopct(pct):\n",
    "        total = sum(values)\n",
    "        val = int(round(pct*total/100.0))\n",
    "        return '{v:d}'.format(v=val)\n",
    "    return my_autopct\n"
   ]
  },
  {
   "cell_type": "code",
   "execution_count": 4,
   "id": "68a172d7",
   "metadata": {},
   "outputs": [],
   "source": [
    "gumtree_data.drop(gumtree_data[gumtree_data['Area/Zip']=='▄▄▄▄▄▄▄▄▄▄'].index, inplace = True)"
   ]
  },
  {
   "cell_type": "code",
   "execution_count": 7,
   "id": "3e9f8e96",
   "metadata": {},
   "outputs": [],
   "source": [
    "values_by_Area = gumtree_data['Area/Zip'].value_counts()[:10].values.tolist()"
   ]
  },
  {
   "cell_type": "code",
   "execution_count": 9,
   "id": "f150dc9b",
   "metadata": {},
   "outputs": [
    {
     "data": {
      "text/plain": [
       "<AxesSubplot:title={'center':'Top 10 Areas for Cleaners job by Gumtree UpdatedData Job Portal'}, ylabel='Area/Zip'>"
      ]
     },
     "execution_count": 9,
     "metadata": {},
     "output_type": "execute_result"
    },
    {
     "data": {
      "image/png": "[encoded data removed]",
      "text/plain": [
       "<Figure size 432x288 with 1 Axes>"
      ]
     },
     "metadata": {},
     "output_type": "display_data"
    }
   ],
   "source": [
    "\n",
    "gumtree_data['Area/Zip'].value_counts()[:10].plot(kind='pie',title='Top 10 Areas for Cleaners job by Gumtree UpdatedData Job Portal',autopct=make_autopct(values_by_Area))"
   ]
  },
  {
   "cell_type": "code",
   "execution_count": 10,
   "id": "5b6b217a",
   "metadata": {},
   "outputs": [],
   "source": [
    "values_by_Role = gumtree_data['Role'].value_counts()[:10].values.tolist()"
   ]
  },
  {
   "cell_type": "code",
   "execution_count": 12,
   "id": "443dac85",
   "metadata": {},
   "outputs": [
    {
     "data": {
      "text/plain": [
       "<AxesSubplot:title={'center':'Top 10 Job Titles for Cleaners by Gumtree Updated data Job Portal'}, ylabel='Role'>"
      ]
     },
     "execution_count": 12,
     "metadata": {},
     "output_type": "execute_result"
    },
    {
     "name": "stderr",
     "output_type": "stream",
     "text": [
      "C:\\Users\\Public\\Anaconda\\lib\\site-packages\\matplotlib\\backends\\backend_agg.py:238: RuntimeWarning: Glyph 11088 missing from current font.\n",
      "  font.set_text(s, 0.0, flags=flags)\n",
      "C:\\Users\\Public\\Anaconda\\lib\\site-packages\\matplotlib\\backends\\backend_agg.py:201: RuntimeWarning: Glyph 11088 missing from current font.\n",
      "  font.set_text(s, 0, flags=flags)\n"
     ]
    },
    {
     "data": {
      "image/png": "[encoded data removed]",
      "text/plain": [
       "<Figure size 1080x720 with 1 Axes>"
      ]
     },
     "metadata": {},
     "output_type": "display_data"
    }
   ],
   "source": [
    "gumtree_data['Role'].value_counts()[:10].plot(kind='pie',title='Top 10 Job Titles for Cleaners by Gumtree Updated data Job Portal',autopct=make_autopct(values_by_Role),figsize=(15,10))"
   ]
  },
  {
   "cell_type": "code",
   "execution_count": 19,
   "id": "9b27e45d",
   "metadata": {},
   "outputs": [
    {
     "ename": "KeyError",
     "evalue": "'Comapny_Name'",
     "output_type": "error",
     "traceback": [
      "\u001b[1;31m---------------------------------------------------------------------------\u001b[0m",
      "\u001b[1;31mKeyError\u001b[0m                                  Traceback (most recent call last)",
      "\u001b[1;32mC:\\Users\\Public\\Anaconda\\lib\\site-packages\\pandas\\core\\indexes\\base.py\u001b[0m in \u001b[0;36mget_loc\u001b[1;34m(self, key, method, tolerance)\u001b[0m\n\u001b[0;32m   3079\u001b[0m             \u001b[1;32mtry\u001b[0m\u001b[1;33m:\u001b[0m\u001b[1;33m\u001b[0m\u001b[1;33m\u001b[0m\u001b[0m\n\u001b[1;32m-> 3080\u001b[1;33m                 \u001b[1;32mreturn\u001b[0m \u001b[0mself\u001b[0m\u001b[1;33m.\u001b[0m\u001b[0m_engine\u001b[0m\u001b[1;33m.\u001b[0m\u001b[0mget_loc\u001b[0m\u001b[1;33m(\u001b[0m\u001b[0mcasted_key\u001b[0m\u001b[1;33m)\u001b[0m\u001b[1;33m\u001b[0m\u001b[1;33m\u001b[0m\u001b[0m\n\u001b[0m\u001b[0;32m   3081\u001b[0m             \u001b[1;32mexcept\u001b[0m \u001b[0mKeyError\u001b[0m \u001b[1;32mas\u001b[0m \u001b[0merr\u001b[0m\u001b[1;33m:\u001b[0m\u001b[1;33m\u001b[0m\u001b[1;33m\u001b[0m\u001b[0m\n",
      "\u001b[1;32mpandas\\_libs\\index.pyx\u001b[0m in \u001b[0;36mpandas._libs.index.IndexEngine.get_loc\u001b[1;34m()\u001b[0m\n",
      "\u001b[1;32mpandas\\_libs\\index.pyx\u001b[0m in \u001b[0;36mpandas._libs.index.IndexEngine.get_loc\u001b[1;34m()\u001b[0m\n",
      "\u001b[1;32mpandas\\_libs\\hashtable_class_helper.pxi\u001b[0m in \u001b[0;36mpandas._libs.hashtable.PyObjectHashTable.get_item\u001b[1;34m()\u001b[0m\n",
      "\u001b[1;32mpandas\\_libs\\hashtable_class_helper.pxi\u001b[0m in \u001b[0;36mpandas._libs.hashtable.PyObjectHashTable.get_item\u001b[1;34m()\u001b[0m\n",
      "\u001b[1;31mKeyError\u001b[0m: 'Comapny_Name'",
      "\nThe above exception was the direct cause of the following exception:\n",
      "\u001b[1;31mKeyError\u001b[0m                                  Traceback (most recent call last)",
      "\u001b[1;32m<ipython-input-19-62ff8b344141>\u001b[0m in \u001b[0;36m<module>\u001b[1;34m\u001b[0m\n\u001b[1;32m----> 1\u001b[1;33m \u001b[0mgumtree_data\u001b[0m\u001b[1;33m[\u001b[0m\u001b[1;34m'Comapny_Name'\u001b[0m\u001b[1;33m]\u001b[0m\u001b[1;33m.\u001b[0m\u001b[0mvalue_counts\u001b[0m\u001b[1;33m(\u001b[0m\u001b[1;33m)\u001b[0m\u001b[1;33m.\u001b[0m\u001b[0mhead\u001b[0m\u001b[1;33m(\u001b[0m\u001b[1;36m10\u001b[0m\u001b[1;33m)\u001b[0m\u001b[1;33m\u001b[0m\u001b[1;33m\u001b[0m\u001b[0m\n\u001b[0m",
      "\u001b[1;32mC:\\Users\\Public\\Anaconda\\lib\\site-packages\\pandas\\core\\frame.py\u001b[0m in \u001b[0;36m__getitem__\u001b[1;34m(self, key)\u001b[0m\n\u001b[0;32m   3022\u001b[0m             \u001b[1;32mif\u001b[0m \u001b[0mself\u001b[0m\u001b[1;33m.\u001b[0m\u001b[0mcolumns\u001b[0m\u001b[1;33m.\u001b[0m\u001b[0mnlevels\u001b[0m \u001b[1;33m>\u001b[0m \u001b[1;36m1\u001b[0m\u001b[1;33m:\u001b[0m\u001b[1;33m\u001b[0m\u001b[1;33m\u001b[0m\u001b[0m\n\u001b[0;32m   3023\u001b[0m                 \u001b[1;32mreturn\u001b[0m \u001b[0mself\u001b[0m\u001b[1;33m.\u001b[0m\u001b[0m_getitem_multilevel\u001b[0m\u001b[1;33m(\u001b[0m\u001b[0mkey\u001b[0m\u001b[1;33m)\u001b[0m\u001b[1;33m\u001b[0m\u001b[1;33m\u001b[0m\u001b[0m\n\u001b[1;32m-> 3024\u001b[1;33m             \u001b[0mindexer\u001b[0m \u001b[1;33m=\u001b[0m \u001b[0mself\u001b[0m\u001b[1;33m.\u001b[0m\u001b[0mcolumns\u001b[0m\u001b[1;33m.\u001b[0m\u001b[0mget_loc\u001b[0m\u001b[1;33m(\u001b[0m\u001b[0mkey\u001b[0m\u001b[1;33m)\u001b[0m\u001b[1;33m\u001b[0m\u001b[1;33m\u001b[0m\u001b[0m\n\u001b[0m\u001b[0;32m   3025\u001b[0m             \u001b[1;32mif\u001b[0m \u001b[0mis_integer\u001b[0m\u001b[1;33m(\u001b[0m\u001b[0mindexer\u001b[0m\u001b[1;33m)\u001b[0m\u001b[1;33m:\u001b[0m\u001b[1;33m\u001b[0m\u001b[1;33m\u001b[0m\u001b[0m\n\u001b[0;32m   3026\u001b[0m                 \u001b[0mindexer\u001b[0m \u001b[1;33m=\u001b[0m \u001b[1;33m[\u001b[0m\u001b[0mindexer\u001b[0m\u001b[1;33m]\u001b[0m\u001b[1;33m\u001b[0m\u001b[1;33m\u001b[0m\u001b[0m\n",
      "\u001b[1;32mC:\\Users\\Public\\Anaconda\\lib\\site-packages\\pandas\\core\\indexes\\base.py\u001b[0m in \u001b[0;36mget_loc\u001b[1;34m(self, key, method, tolerance)\u001b[0m\n\u001b[0;32m   3080\u001b[0m                 \u001b[1;32mreturn\u001b[0m \u001b[0mself\u001b[0m\u001b[1;33m.\u001b[0m\u001b[0m_engine\u001b[0m\u001b[1;33m.\u001b[0m\u001b[0mget_loc\u001b[0m\u001b[1;33m(\u001b[0m\u001b[0mcasted_key\u001b[0m\u001b[1;33m)\u001b[0m\u001b[1;33m\u001b[0m\u001b[1;33m\u001b[0m\u001b[0m\n\u001b[0;32m   3081\u001b[0m             \u001b[1;32mexcept\u001b[0m \u001b[0mKeyError\u001b[0m \u001b[1;32mas\u001b[0m \u001b[0merr\u001b[0m\u001b[1;33m:\u001b[0m\u001b[1;33m\u001b[0m\u001b[1;33m\u001b[0m\u001b[0m\n\u001b[1;32m-> 3082\u001b[1;33m                 \u001b[1;32mraise\u001b[0m \u001b[0mKeyError\u001b[0m\u001b[1;33m(\u001b[0m\u001b[0mkey\u001b[0m\u001b[1;33m)\u001b[0m \u001b[1;32mfrom\u001b[0m \u001b[0merr\u001b[0m\u001b[1;33m\u001b[0m\u001b[1;33m\u001b[0m\u001b[0m\n\u001b[0m\u001b[0;32m   3083\u001b[0m \u001b[1;33m\u001b[0m\u001b[0m\n\u001b[0;32m   3084\u001b[0m         \u001b[1;32mif\u001b[0m \u001b[0mtolerance\u001b[0m \u001b[1;32mis\u001b[0m \u001b[1;32mnot\u001b[0m \u001b[1;32mNone\u001b[0m\u001b[1;33m:\u001b[0m\u001b[1;33m\u001b[0m\u001b[1;33m\u001b[0m\u001b[0m\n",
      "\u001b[1;31mKeyError\u001b[0m: 'Comapny_Name'"
     ]
    }
   ],
   "source": [
    "gumtree_data['Comapny_Name'].value_counts().head(10)\n"
   ]
  },
  {
   "cell_type": "code",
   "execution_count": null,
   "id": "aeb0a1d0",
   "metadata": {},
   "outputs": [],
   "source": [
    "values_by_company = gumtree_data['Comapny_Name'].value_counts()[:10].values.tolist()\n",
    "gumtree_data['Comapny_Name'].value_counts()[:10].plot(kind='pie',title='Most Ads by any Company for Cleaners on Gumtree Job Portal',autopct=make_autopct(values_by_company),figsize=(18,10))"
   ]
  },
  {
   "cell_type": "code",
   "execution_count": null,
   "id": "e5446ec3",
   "metadata": {},
   "outputs": [],
   "source": []
  },
  {
   "cell_type": "code",
   "execution_count": 18,
   "id": "e061a2f6",
   "metadata": {},
   "outputs": [
    {
     "name": "stdout",
     "output_type": "stream",
     "text": [
      "Top 10 Job Titles for Cleaners from Gumtree Data\n"
     ]
    },
    {
     "name": "stderr",
     "output_type": "stream",
     "text": [
      "C:\\Users\\Public\\Anaconda\\lib\\site-packages\\matplotlib\\backends\\backend_agg.py:238: RuntimeWarning: Glyph 11088 missing from current font.\n",
      "  font.set_text(s, 0.0, flags=flags)\n",
      "C:\\Users\\Public\\Anaconda\\lib\\site-packages\\matplotlib\\backends\\backend_agg.py:201: RuntimeWarning: Glyph 11088 missing from current font.\n",
      "  font.set_text(s, 0, flags=flags)\n"
     ]
    },
    {
     "data": {
      "image/png": "[encoded data removed]",
      "text/plain": [
       "<Figure size 432x288 with 1 Axes>"
      ]
     },
     "metadata": {
      "needs_background": "light"
     },
     "output_type": "display_data"
    }
   ],
   "source": [
    "gd = gumtree_data['Role'].value_counts().head(10)\n",
    "print(\"Top 10 Job Titles for Cleaners from Gumtree Data\")\n",
    "ax = sns.countplot(y=\"Role\", data=gumtree_data,order=gumtree_data.Role.value_counts().iloc[:10].index).set_title(\"Top 10 Job Titles for Cleaners from Gumtree Data\")"
   ]
  },
  {
   "cell_type": "code",
   "execution_count": null,
   "id": "8fbca807",
   "metadata": {},
   "outputs": [],
   "source": []
  },
  {
   "cell_type": "code",
   "execution_count": 34,
   "id": "8946ca82",
   "metadata": {},
   "outputs": [
    {
     "data": {
      "text/html": [
       "<div>\n",
       "<style scoped>\n",
       "    .dataframe tbody tr th:only-of-type {\n",
       "        vertical-align: middle;\n",
       "    }\n",
       "\n",
       "    .dataframe tbody tr th {\n",
       "        vertical-align: top;\n",
       "    }\n",
       "\n",
       "    .dataframe thead th {\n",
       "        text-align: right;\n",
       "    }\n",
       "</style>\n",
       "<table border=\"1\" class=\"dataframe\">\n",
       "  <thead>\n",
       "    <tr style=\"text-align: right;\">\n",
       "      <th></th>\n",
       "      <th>Role</th>\n",
       "      <th>Company</th>\n",
       "      <th>Area/Zip</th>\n",
       "      <th>Posted Datetime</th>\n",
       "    </tr>\n",
       "  </thead>\n",
       "  <tbody>\n",
       "    <tr>\n",
       "      <th>0</th>\n",
       "      <td>Cleaner</td>\n",
       "      <td>Lidl</td>\n",
       "      <td>West Ealing</td>\n",
       "      <td>a week ago</td>\n",
       "    </tr>\n",
       "    <tr>\n",
       "      <th>1</th>\n",
       "      <td>Cleaner</td>\n",
       "      <td>Remora Cleaning</td>\n",
       "      <td>City of London, London</td>\n",
       "      <td>4 days ago</td>\n",
       "    </tr>\n",
       "    <tr>\n",
       "      <th>2</th>\n",
       "      <td>Cleaner</td>\n",
       "      <td>Leaving Care Solutions</td>\n",
       "      <td>London</td>\n",
       "      <td>4 days ago</td>\n",
       "    </tr>\n",
       "    <tr>\n",
       "      <th>3</th>\n",
       "      <td>Weekend Cleaner</td>\n",
       "      <td>Deepdene Care Ltd</td>\n",
       "      <td>Streatham, Greater London</td>\n",
       "      <td>22/07/2021</td>\n",
       "    </tr>\n",
       "    <tr>\n",
       "      <th>4</th>\n",
       "      <td>Cleaner</td>\n",
       "      <td>Team CV LTD</td>\n",
       "      <td>Uxbridge, Greater London</td>\n",
       "      <td>a week ago</td>\n",
       "    </tr>\n",
       "  </tbody>\n",
       "</table>\n",
       "</div>"
      ],
      "text/plain": [
       "              Role                 Company                   Area/Zip  \\\n",
       "0          Cleaner                    Lidl                West Ealing   \n",
       "1          Cleaner         Remora Cleaning     City of London, London   \n",
       "2          Cleaner  Leaving Care Solutions                     London   \n",
       "3  Weekend Cleaner       Deepdene Care Ltd  Streatham, Greater London   \n",
       "4          Cleaner             Team CV LTD   Uxbridge, Greater London   \n",
       "\n",
       "  Posted Datetime  \n",
       "0      a week ago  \n",
       "1      4 days ago  \n",
       "2      4 days ago  \n",
       "3      22/07/2021  \n",
       "4      a week ago  "
      ]
     },
     "execution_count": 34,
     "metadata": {},
     "output_type": "execute_result"
    }
   ],
   "source": [
    "cvlibrary_data = pd.read_csv('CV-Library_Portal.csv',index_col='Unnamed: 0')\n",
    "cvlibrary_data.head()"
   ]
  },
  {
   "cell_type": "code",
   "execution_count": 32,
   "id": "2db6bd29",
   "metadata": {},
   "outputs": [
    {
     "data": {
      "text/plain": [
       "London                        77\n",
       "City of London, London        12\n",
       "Hounslow, London              12\n",
       "Croydon, London                8\n",
       "Uxbridge                       6\n",
       "Enfield, Greater London        6\n",
       "Brent, Greater London          4\n",
       "Hillingdon, Greater London     4\n",
       "Uxbridge, London               4\n",
       "Greenwich, Greater London      4\n",
       "Name: Area/Zip, dtype: int64"
      ]
     },
     "execution_count": 32,
     "metadata": {},
     "output_type": "execute_result"
    }
   ],
   "source": [
    "cvlibrary_data['Area/Zip'].value_counts().head(10)"
   ]
  },
  {
   "cell_type": "code",
   "execution_count": 30,
   "id": "e1227c88",
   "metadata": {},
   "outputs": [
    {
     "data": {
      "text/plain": [
       "Cleaner                42\n",
       "CSCS Cleaner           12\n",
       "School Caretaker        7\n",
       "Warehouse Operative     6\n",
       "Cleaning Supervisor     5\n",
       "Mobile Cleaner          5\n",
       "Estate Cleaner          5\n",
       "Cleaning Operative      4\n",
       "Hygiene Operative       3\n",
       "School Cleaner          3\n",
       "Name: Role, dtype: int64"
      ]
     },
     "execution_count": 30,
     "metadata": {},
     "output_type": "execute_result"
    }
   ],
   "source": [
    "cvlibrary_data['Role'].value_counts().head(10)"
   ]
  },
  {
   "cell_type": "code",
   "execution_count": null,
   "id": "c6138921",
   "metadata": {},
   "outputs": [],
   "source": []
  },
  {
   "cell_type": "code",
   "execution_count": null,
   "id": "6606d6a2",
   "metadata": {},
   "outputs": [],
   "source": []
  },
  {
   "cell_type": "code",
   "execution_count": null,
   "id": "76f41278",
   "metadata": {},
   "outputs": [],
   "source": []
  },
  {
   "cell_type": "code",
   "execution_count": 12,
   "id": "a06a6a83",
   "metadata": {},
   "outputs": [
    {
     "data": {
      "text/html": [
       "<div>\n",
       "<style scoped>\n",
       "    .dataframe tbody tr th:only-of-type {\n",
       "        vertical-align: middle;\n",
       "    }\n",
       "\n",
       "    .dataframe tbody tr th {\n",
       "        vertical-align: top;\n",
       "    }\n",
       "\n",
       "    .dataframe thead th {\n",
       "        text-align: right;\n",
       "    }\n",
       "</style>\n",
       "<table border=\"1\" class=\"dataframe\">\n",
       "  <thead>\n",
       "    <tr style=\"text-align: right;\">\n",
       "      <th></th>\n",
       "      <th>Comapny_Name</th>\n",
       "      <th>Role</th>\n",
       "      <th>City/Zip</th>\n",
       "      <th>Datetime_Posted</th>\n",
       "    </tr>\n",
       "  </thead>\n",
       "  <tbody>\n",
       "    <tr>\n",
       "      <th>0</th>\n",
       "      <td>Buzz Housekeeping</td>\n",
       "      <td>newOffice Cleaner</td>\n",
       "      <td>London</td>\n",
       "      <td>2 days ago</td>\n",
       "    </tr>\n",
       "    <tr>\n",
       "      <th>1</th>\n",
       "      <td>Iceland</td>\n",
       "      <td>newCleaner - Seasonal (London)</td>\n",
       "      <td>London</td>\n",
       "      <td>1 day ago</td>\n",
       "    </tr>\n",
       "    <tr>\n",
       "      <th>2</th>\n",
       "      <td>Sadler’s Wells</td>\n",
       "      <td>newCleaner</td>\n",
       "      <td>Islington</td>\n",
       "      <td>6 days ago</td>\n",
       "    </tr>\n",
       "    <tr>\n",
       "      <th>3</th>\n",
       "      <td>Nandos</td>\n",
       "      <td>newNight Cleaner</td>\n",
       "      <td>London SW1V 1DZ</td>\n",
       "      <td>Today</td>\n",
       "    </tr>\n",
       "    <tr>\n",
       "      <th>4</th>\n",
       "      <td>Rendall &amp; Rittner</td>\n",
       "      <td>Cleaner</td>\n",
       "      <td>Lambeth+2 locations</td>\n",
       "      <td>9 days ago</td>\n",
       "    </tr>\n",
       "  </tbody>\n",
       "</table>\n",
       "</div>"
      ],
      "text/plain": [
       "        Comapny_Name                            Role             City/Zip  \\\n",
       "0  Buzz Housekeeping               newOffice Cleaner               London   \n",
       "1            Iceland  newCleaner - Seasonal (London)               London   \n",
       "2     Sadler’s Wells                      newCleaner            Islington   \n",
       "3             Nandos                newNight Cleaner      London SW1V 1DZ   \n",
       "4  Rendall & Rittner                         Cleaner  Lambeth+2 locations   \n",
       "\n",
       "  Datetime_Posted  \n",
       "0      2 days ago  \n",
       "1       1 day ago  \n",
       "2      6 days ago  \n",
       "3           Today  \n",
       "4      9 days ago  "
      ]
     },
     "execution_count": 12,
     "metadata": {},
     "output_type": "execute_result"
    }
   ],
   "source": [
    "jobtoday_data = pd.read_csv('Jobs_Today.csv',index_col='Unnamed: 0')\n",
    "jobtoday_data.head()"
   ]
  },
  {
   "cell_type": "code",
   "execution_count": 23,
   "id": "340f116c",
   "metadata": {},
   "outputs": [
    {
     "data": {
      "text/plain": [
       "London             320\n",
       "London SE1          37\n",
       "London E14          20\n",
       "Southwark           18\n",
       "London W1F          18\n",
       "London WC2N 4JS     15\n",
       "London SW8          15\n",
       "London SW1W 8BS     15\n",
       "London SE24 0EL     14\n",
       "London NW3 2DU      14\n",
       "Name: City/Zip, dtype: int64"
      ]
     },
     "execution_count": 23,
     "metadata": {},
     "output_type": "execute_result"
    }
   ],
   "source": [
    "jobtoday_data['City/Zip'].value_counts().head(10)"
   ]
  },
  {
   "cell_type": "code",
   "execution_count": null,
   "id": "644fd01e",
   "metadata": {},
   "outputs": [],
   "source": []
  },
  {
   "cell_type": "code",
   "execution_count": null,
   "id": "a5cd1137",
   "metadata": {},
   "outputs": [],
   "source": []
  },
  {
   "cell_type": "code",
   "execution_count": null,
   "id": "48cb57d0",
   "metadata": {},
   "outputs": [],
   "source": []
  },
  {
   "cell_type": "code",
   "execution_count": null,
   "id": "a5c3245a",
   "metadata": {},
   "outputs": [],
   "source": []
  },
  {
   "cell_type": "code",
   "execution_count": 13,
   "id": "4241380e",
   "metadata": {},
   "outputs": [
    {
     "data": {
      "text/html": [
       "<div>\n",
       "<style scoped>\n",
       "    .dataframe tbody tr th:only-of-type {\n",
       "        vertical-align: middle;\n",
       "    }\n",
       "\n",
       "    .dataframe tbody tr th {\n",
       "        vertical-align: top;\n",
       "    }\n",
       "\n",
       "    .dataframe thead th {\n",
       "        text-align: right;\n",
       "    }\n",
       "</style>\n",
       "<table border=\"1\" class=\"dataframe\">\n",
       "  <thead>\n",
       "    <tr style=\"text-align: right;\">\n",
       "      <th></th>\n",
       "      <th>Role</th>\n",
       "      <th>Company</th>\n",
       "      <th>Area/Zip</th>\n",
       "      <th>Posted Datetime</th>\n",
       "    </tr>\n",
       "  </thead>\n",
       "  <tbody>\n",
       "    <tr>\n",
       "      <th>0</th>\n",
       "      <td>Cleaner</td>\n",
       "      <td>Abbatt Property Recruitment</td>\n",
       "      <td>London\\n                        London</td>\n",
       "      <td>Posted 23 July by Abbatt Property Recruitment\\...</td>\n",
       "    </tr>\n",
       "    <tr>\n",
       "      <th>1</th>\n",
       "      <td>Cleaner</td>\n",
       "      <td>Abbatt Property Recruitment</td>\n",
       "      <td>London\\n                        London</td>\n",
       "      <td>Posted 2 August by Abbatt Property Recruitment</td>\n",
       "    </tr>\n",
       "    <tr>\n",
       "      <th>2</th>\n",
       "      <td>Cleaner</td>\n",
       "      <td>Remora Cleaning</td>\n",
       "      <td>London\\n                        London</td>\n",
       "      <td>Posted 5 days ago by Remora Cleaning\\n\\nEasy A...</td>\n",
       "    </tr>\n",
       "    <tr>\n",
       "      <th>3</th>\n",
       "      <td>Cleaner</td>\n",
       "      <td>Adecco</td>\n",
       "      <td>London\\n                        London</td>\n",
       "      <td>Posted 19 July by Adecco \\n\\nEasy Apply</td>\n",
       "    </tr>\n",
       "    <tr>\n",
       "      <th>4</th>\n",
       "      <td>Cleaner</td>\n",
       "      <td>Randstad Construction, Property and Engineering</td>\n",
       "      <td>London\\n                        London</td>\n",
       "      <td>Posted 28 July by Randstad Construction, Prope...</td>\n",
       "    </tr>\n",
       "  </tbody>\n",
       "</table>\n",
       "</div>"
      ],
      "text/plain": [
       "      Role                                          Company  \\\n",
       "0  Cleaner                      Abbatt Property Recruitment   \n",
       "1  Cleaner                      Abbatt Property Recruitment   \n",
       "2  Cleaner                                  Remora Cleaning   \n",
       "3  Cleaner                                           Adecco   \n",
       "4  Cleaner  Randstad Construction, Property and Engineering   \n",
       "\n",
       "                                 Area/Zip  \\\n",
       "0  London\\n                        London   \n",
       "1  London\\n                        London   \n",
       "2  London\\n                        London   \n",
       "3  London\\n                        London   \n",
       "4  London\\n                        London   \n",
       "\n",
       "                                     Posted Datetime  \n",
       "0  Posted 23 July by Abbatt Property Recruitment\\...  \n",
       "1     Posted 2 August by Abbatt Property Recruitment  \n",
       "2  Posted 5 days ago by Remora Cleaning\\n\\nEasy A...  \n",
       "3            Posted 19 July by Adecco \\n\\nEasy Apply  \n",
       "4  Posted 28 July by Randstad Construction, Prope...  "
      ]
     },
     "execution_count": 13,
     "metadata": {},
     "output_type": "execute_result"
    }
   ],
   "source": [
    "readcouk_data = pd.read_csv('Read-co-uk_Portal.csv',index_col='Unnamed: 0')\n",
    "readcouk_data.head()"
   ]
  },
  {
   "cell_type": "code",
   "execution_count": 25,
   "id": "723d178a",
   "metadata": {},
   "outputs": [
    {
     "data": {
      "text/plain": [
       "London\\n                        London                     436\n",
       "Camden (London Borough)\\n                        London     12\n",
       "Southwark\\n                        London                   11\n",
       "Wembley, London\\n                        London              9\n",
       "Stratford, London\\n                        London            5\n",
       "Neasden\\n                        London                      5\n",
       "Ealing\\n                        London                       5\n",
       "Barnes\\n                        London                       4\n",
       "Chelsea\\n                        London                      4\n",
       "Catford\\n                        London                      4\n",
       "Name: Area/Zip, dtype: int64"
      ]
     },
     "execution_count": 25,
     "metadata": {},
     "output_type": "execute_result"
    }
   ],
   "source": [
    "readcouk_data['Area/Zip'].value_counts().head(10)"
   ]
  },
  {
   "cell_type": "code",
   "execution_count": null,
   "id": "668e1aa3",
   "metadata": {},
   "outputs": [],
   "source": []
  },
  {
   "cell_type": "code",
   "execution_count": null,
   "id": "e7f41f98",
   "metadata": {},
   "outputs": [],
   "source": []
  },
  {
   "cell_type": "code",
   "execution_count": 26,
   "id": "682d535d",
   "metadata": {},
   "outputs": [
    {
     "data": {
      "text/html": [
       "<div>\n",
       "<style scoped>\n",
       "    .dataframe tbody tr th:only-of-type {\n",
       "        vertical-align: middle;\n",
       "    }\n",
       "\n",
       "    .dataframe tbody tr th {\n",
       "        vertical-align: top;\n",
       "    }\n",
       "\n",
       "    .dataframe thead th {\n",
       "        text-align: right;\n",
       "    }\n",
       "</style>\n",
       "<table border=\"1\" class=\"dataframe\">\n",
       "  <thead>\n",
       "    <tr style=\"text-align: right;\">\n",
       "      <th></th>\n",
       "      <th>Comapny_Name</th>\n",
       "      <th>Role</th>\n",
       "      <th>City/Zip</th>\n",
       "      <th>Datetime_Posted</th>\n",
       "    </tr>\n",
       "  </thead>\n",
       "  <tbody>\n",
       "    <tr>\n",
       "      <th>0</th>\n",
       "      <td>Buzz Housekeeping</td>\n",
       "      <td>newOffice Cleaner</td>\n",
       "      <td>London</td>\n",
       "      <td>2 days ago</td>\n",
       "    </tr>\n",
       "    <tr>\n",
       "      <th>1</th>\n",
       "      <td>Iceland</td>\n",
       "      <td>newCleaner - Seasonal (London)</td>\n",
       "      <td>London</td>\n",
       "      <td>1 day ago</td>\n",
       "    </tr>\n",
       "    <tr>\n",
       "      <th>2</th>\n",
       "      <td>Sadler’s Wells</td>\n",
       "      <td>newCleaner</td>\n",
       "      <td>Islington</td>\n",
       "      <td>6 days ago</td>\n",
       "    </tr>\n",
       "    <tr>\n",
       "      <th>3</th>\n",
       "      <td>Nandos</td>\n",
       "      <td>newNight Cleaner</td>\n",
       "      <td>London SW1V 1DZ</td>\n",
       "      <td>Today</td>\n",
       "    </tr>\n",
       "    <tr>\n",
       "      <th>4</th>\n",
       "      <td>Rendall &amp; Rittner</td>\n",
       "      <td>Cleaner</td>\n",
       "      <td>Lambeth+2 locations</td>\n",
       "      <td>9 days ago</td>\n",
       "    </tr>\n",
       "  </tbody>\n",
       "</table>\n",
       "</div>"
      ],
      "text/plain": [
       "        Comapny_Name                            Role             City/Zip  \\\n",
       "0  Buzz Housekeeping               newOffice Cleaner               London   \n",
       "1            Iceland  newCleaner - Seasonal (London)               London   \n",
       "2     Sadler’s Wells                      newCleaner            Islington   \n",
       "3             Nandos                newNight Cleaner      London SW1V 1DZ   \n",
       "4  Rendall & Rittner                         Cleaner  Lambeth+2 locations   \n",
       "\n",
       "  Datetime_Posted  \n",
       "0      2 days ago  \n",
       "1       1 day ago  \n",
       "2      6 days ago  \n",
       "3           Today  \n",
       "4      9 days ago  "
      ]
     },
     "execution_count": 26,
     "metadata": {},
     "output_type": "execute_result"
    }
   ],
   "source": [
    "indeed_data = pd.read_csv('Indeed_Jobs.csv',index_col='Unnamed: 0')\n",
    "indeed_data.head()"
   ]
  },
  {
   "cell_type": "code",
   "execution_count": 28,
   "id": "2adac493",
   "metadata": {},
   "outputs": [
    {
     "data": {
      "text/plain": [
       "London             320\n",
       "London SE1          37\n",
       "London E14          20\n",
       "Southwark           18\n",
       "London W1F          18\n",
       "London WC2N 4JS     15\n",
       "London SW8          15\n",
       "London SW1W 8BS     15\n",
       "London SE24 0EL     14\n",
       "London NW3 2DU      14\n",
       "Name: City/Zip, dtype: int64"
      ]
     },
     "execution_count": 28,
     "metadata": {},
     "output_type": "execute_result"
    }
   ],
   "source": [
    "indeed_data['City/Zip'].value_counts().head(10)"
   ]
  },
  {
   "cell_type": "code",
   "execution_count": null,
   "id": "811e863f",
   "metadata": {},
   "outputs": [],
   "source": []
  }
 ],
 "metadata": {
  "kernelspec": {
   "display_name": "Python 3",
   "language": "python",
   "name": "python3"
  },
  "language_info": {
   "codemirror_mode": {
    "name": "ipython",
    "version": 3
   },
   "file_extension": ".py",
   "mimetype": "text/x-python",
   "name": "python",
   "nbconvert_exporter": "python",
   "pygments_lexer": "ipython3",
   "version": "3.8.8"
  }
 },
 "nbformat": 4,
 "nbformat_minor": 5
}
